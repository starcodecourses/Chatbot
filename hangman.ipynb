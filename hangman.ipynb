{
  "nbformat": 4,
  "nbformat_minor": 0,
  "metadata": {
    "colab": {
      "provenance": []
    },
    "kernelspec": {
      "name": "python3",
      "display_name": "Python 3"
    },
    "language_info": {
      "name": "python"
    }
  },
  "cells": [
    {
      "cell_type": "markdown",
      "source": [
        "# Galgenmännchen\n",
        "\n",
        "Deine Aufgabe ist es, das Spiel [Galgenmännchen](https://de.wikipedia.org/wiki/Galgenm%C3%A4nnchen) zu programmieren. Das Spiel soll wie folgt funktionieren:\n",
        "\n",
        "1. Das Programm fragt Spieler\\*in A nach einem Wort, das erraten werden soll.\n",
        "2. Das Programm zeigt so viele Lücken (Dieses Symbol: `_`), wie das Wort Buchstaben hat.\n",
        "3. Das Programm fragt Spieler\\*in B nach einem Buchstaben.\n",
        "4. Das Programm gibt eine Version des Wortes aus, bei der alle Vorkommen des Buchstabens im Wort aufgedeckt werden. Zum Beispiel: Ist das Wort `Elefant` und Spieler\\*in B rät ein `e`, dann würde jetzt `E _ e _ _ _ _` angezeigt.\n",
        "5. Wenn das Wort vollständig aufgedeckt ist, ist das Spiel gewonnen.\n",
        "6. Wenn ein Buchstabe überhaupt nicht vorkommt, wird ein Galgen gezeichnet. Ist der Galgen vollständig gezeichnet, ist das Spiel ebenfalls vorbei.\n",
        "\n",
        "Das ist nun ganz schön viel auf einmal. Statt das alles auf einmal anzugehen, bauen wir das Spiel Schritt für Schritt auf."
      ],
      "metadata": {
        "id": "gurizEWbM51S"
      }
    },
    {
      "cell_type": "markdown",
      "source": [
        "### Nach einem Wort fragen\n",
        "\n",
        "Zuerst lernen wir, nach einem Wort zu fragen. Dafür hast du ja bereits die Funktion `input` kennen gelernt. Allerdings soll ja hier das Wort geheim sein. Daher sollten wir für die Abfrage lieber die Funktion `getpass` benutzen, die auch für Passwortabfragen benutzt wird.\n",
        "\n",
        "Schreibe ein Programm, das nach einem Wort fragt, und dann gerade so viele Lücken `_` anzeigt, wie das Wort lang ist."
      ],
      "metadata": {
        "id": "56BJHpg2RY7F"
      }
    },
    {
      "cell_type": "code",
      "source": [
        "from getpass import getpass\n",
        "wort = getpass('Psst! Welches Wort soll erraten werden?')\n",
        "\n",
        "# hier musst du ein Stück Code einfügen, das gerade so viele Lücken erzeugt,\n",
        "# wie 'wort' lang ist."
      ],
      "metadata": {
        "colab": {
          "base_uri": "https://localhost:8080/"
        },
        "id": "L2fiwDjdXjYd",
        "outputId": "64587094-3529-417f-e994-4b3cb5f50cf0"
      },
      "execution_count": null,
      "outputs": [
        {
          "output_type": "stream",
          "name": "stdout",
          "text": [
            "Psst! Welches Wort soll erraten werden?··········\n",
            "_ _ _ _ _ _ _ \n"
          ]
        }
      ]
    },
    {
      "cell_type": "markdown",
      "source": [
        "### Prüfen, ob ein Buchstabe im Wort erscheint\n",
        "\n",
        "Schreibe als nächstes ein Programm, das mit `input` nach einem Buchstaben fragt und dann prüft, ob dieser Buchstabe im Wort vorkommt. Wenn ja, dann gib aus `'Das Wort enthält ein ' + buchstabe` und sonst `'Das Wort enthält leider kein ' + buchstabe`."
      ],
      "metadata": {
        "id": "s6vaAX3tXpyY"
      }
    },
    {
      "cell_type": "code",
      "source": [
        "buchstabe = input('Welcher Buchstabe?')\n",
        "\n",
        "if _: # hier musst du die richtige Bedingung einfügen\n",
        "  print('Das Wort enthält ein ' + buchstabe + '.')\n",
        "else:\n",
        "  print('Das Wort enthält leider kein ' + buchstabe + '.')\n"
      ],
      "metadata": {
        "colab": {
          "base_uri": "https://localhost:8080/"
        },
        "id": "-vtxhyhqXrJM",
        "outputId": "30951317-8da5-431d-8dcb-79e9c0190369"
      },
      "execution_count": null,
      "outputs": [
        {
          "output_type": "stream",
          "name": "stdout",
          "text": [
            "Welcher Buchstabe?e\n",
            "Das Wort enthält ein e\n"
          ]
        }
      ]
    },
    {
      "cell_type": "markdown",
      "source": [
        "### Buchstaben aufdecken\n",
        "\n",
        "Als nächstes, schreibe ein Programm, das alle Lücken `_ ` aufdeckt, die dem Buchstaben entsprechen.\n",
        "\n",
        "Also wenn das Wort zum Beispiel `elefant` ist und der Buchstabe `e`, dann solltest du `e _ e _ _ _ _ ` ausgeben, weil beide `e`s aufgedeckt werden."
      ],
      "metadata": {
        "id": "dkfuq02kYZqd"
      }
    },
    {
      "cell_type": "code",
      "source": [
        "buchstabe = input('Welcher Buchstabe?')\n",
        "ausgabe = ''\n",
        "# Hier musst du die Schleife vervollständigen\n",
        "for _ in _:\n",
        "\n",
        "print(ausgabe)"
      ],
      "metadata": {
        "colab": {
          "base_uri": "https://localhost:8080/"
        },
        "id": "j-RsX-d_YxuJ",
        "outputId": "96cdcf5a-97c7-4b59-e14e-decd1ec0c399"
      },
      "execution_count": null,
      "outputs": [
        {
          "output_type": "stream",
          "name": "stdout",
          "text": [
            "Welcher Buchstabe?e\n",
            "e _ e _ _ _ _ \n"
          ]
        }
      ]
    },
    {
      "cell_type": "markdown",
      "source": [
        "### Mehrere Buchstaben aufdecken\n",
        "\n",
        "Das ist doch schon eine Menge. Jetzt braucht es noch eine Schleife, die uns erlaubt, mehrere Buchstaben hintereinander zu erraten und dann immer neue Buchstaben aufdeckt.\n",
        "\n",
        "***Hinweis:*** Du musst nur die innere Schleife verändern. Ansonsten sollte das Programm bereits funktionieren."
      ],
      "metadata": {
        "id": "BbTx9QCGZMDO"
      }
    },
    {
      "cell_type": "code",
      "source": [
        "# Wir fangen an mit gerade so vielen Lücken, wie 'wort' lang ist.\n",
        "ausgabe = '_ ' * len(wort)\n",
        "# Wir spielen drei Runden lang\n",
        "for runde in range(3):\n",
        "  # Wir fragen nach einem Buchstaben\n",
        "  buchstabe = input('Welcher Buchstabe?')\n",
        "  # Wir erzeugen eine neue Ausgabe\n",
        "  neue_ausgabe = ''\n",
        "  # Hier musst du die Schleife vervollständigen\n",
        "  for _ in _:\n",
        "\n",
        "  # Überschreibe die alte Ausgabe mit der neuen Ausgabe\n",
        "  ausgabe = neue_ausgabe\n",
        "  # Und gib sie aus\n",
        "  print(ausgabe)"
      ],
      "metadata": {
        "colab": {
          "base_uri": "https://localhost:8080/"
        },
        "id": "2UWyrzh_ZJ_J",
        "outputId": "2b87e96f-6203-4c12-b6b6-561369edc61d"
      },
      "execution_count": null,
      "outputs": [
        {
          "output_type": "stream",
          "name": "stdout",
          "text": [
            "Welcher Buchstabe?e\n",
            "e _ e _ _ _ _ \n",
            "Welcher Buchstabe?k\n",
            "e _ e _ _ _ _ \n",
            "Welcher Buchstabe?l\n",
            "e l e _ _ _ _ \n"
          ]
        }
      ]
    },
    {
      "cell_type": "markdown",
      "source": [
        "### Gewinnen\n",
        "\n",
        "Nun sollten wir das Spiel noch beenden, wenn das Wort vollständig aufgedeckt ist. Prüfe, ob in der Ausgabe noch eine Lücke `_` enthalten ist. Wenn nicht, gib aus `'Glückwunsch, du hast gewonnen!'` und beende die Schleife mit einem `break`-Befehl."
      ],
      "metadata": {
        "id": "y2dHjDoIfrcD"
      }
    },
    {
      "cell_type": "code",
      "source": [
        "# Wir fangen an mit gerade so vielen Lücken, wie 'wort' lang ist.\n",
        "ausgabe = '_ ' * len(wort)\n",
        "# Wir spielen maximal 100 Runden\n",
        "for runde in range(100):\n",
        "  # Wir fragen nach einem Buchstaben\n",
        "  buchstabe = input('Welcher Buchstabe?')\n",
        "  # Kopiere hier deine innere Schleife aus der vorigen Aufgabe\n",
        "  neue_ausgabe = ''\n",
        "  for _ in _:\n",
        "\n",
        "  # Überschreibe die alte Ausgabe mit der neuen Ausgabe\n",
        "  ausgabe = neue_ausgabe\n",
        "  # Und gib sie aus\n",
        "  print(ausgabe)\n",
        "  # Prüfe, ob man gewonnen hat. Hier musst du die richtige Bedingung einfügen.\n",
        "  if _:\n",
        "    print('Glückwunsch, du hast gewonnen!')\n",
        "    break"
      ],
      "metadata": {
        "colab": {
          "base_uri": "https://localhost:8080/"
        },
        "id": "KYE9xluhfqeY",
        "outputId": "6f28485c-47a5-4bb8-a953-86c66a40cad6"
      },
      "execution_count": null,
      "outputs": [
        {
          "output_type": "stream",
          "name": "stdout",
          "text": [
            "Welcher Buchstabe?e\n",
            "e _ e _ _ _ _ \n",
            "Welcher Buchstabe?l\n",
            "e l e _ _ _ _ \n",
            "Welcher Buchstabe?f\n",
            "e l e f _ _ _ \n",
            "Welcher Buchstabe?k\n",
            "e l e f _ _ _ \n",
            "Welcher Buchstabe?a\n",
            "e l e f a _ _ \n",
            "Welcher Buchstabe?n\n",
            "e l e f a n _ \n",
            "Welcher Buchstabe?t\n",
            "e l e f a n t \n",
            "Glückwunsch, du hast gewonnen!\n"
          ]
        }
      ]
    },
    {
      "cell_type": "markdown",
      "source": [
        "### Falsche Buchstaben zählen\n",
        "\n",
        "Schreibe nun eine Schleife, in der wir nach einem Buchstaben fragen und jedes mal, wenn der Buchstabe _nicht_ im Wort vorkommt, die Anzahl der bereits falsch geratenen Buchstaben ausgeben."
      ],
      "metadata": {
        "id": "kgkOcZtWbWRq"
      }
    },
    {
      "cell_type": "code",
      "source": [
        "falsch_geraten = 0\n",
        "for runde in range(3):\n",
        "  buchstabe = input('Welcher Buchstabe?')\n",
        "  # Hier musst du die Bedingung vervollständigen\n",
        "  if _:\n",
        "    falsch_geraten += 1\n",
        "    print('Schon ' + str(falsch_geraten) + ' mal falsch geraten.')\n"
      ],
      "metadata": {
        "colab": {
          "base_uri": "https://localhost:8080/",
          "height": 623
        },
        "id": "kiv000qKbWBL",
        "outputId": "b55a9433-4904-4787-d8e7-5b36586bdf27"
      },
      "execution_count": null,
      "outputs": [
        {
          "output_type": "stream",
          "name": "stdout",
          "text": [
            "Welcher Buchstabe?k\n",
            "Schon 1 mal falsch geraten.\n"
          ]
        },
        {
          "output_type": "error",
          "ename": "KeyboardInterrupt",
          "evalue": "ignored",
          "traceback": [
            "\u001b[0;31m---------------------------------------------------------------------------\u001b[0m",
            "\u001b[0;31mKeyboardInterrupt\u001b[0m                         Traceback (most recent call last)",
            "\u001b[0;32m/usr/local/lib/python3.7/dist-packages/ipykernel/kernelbase.py\u001b[0m in \u001b[0;36m_input_request\u001b[0;34m(self, prompt, ident, parent, password)\u001b[0m\n\u001b[1;32m    728\u001b[0m             \u001b[0;32mtry\u001b[0m\u001b[0;34m:\u001b[0m\u001b[0;34m\u001b[0m\u001b[0;34m\u001b[0m\u001b[0m\n\u001b[0;32m--> 729\u001b[0;31m                 \u001b[0mident\u001b[0m\u001b[0;34m,\u001b[0m \u001b[0mreply\u001b[0m \u001b[0;34m=\u001b[0m \u001b[0mself\u001b[0m\u001b[0;34m.\u001b[0m\u001b[0msession\u001b[0m\u001b[0;34m.\u001b[0m\u001b[0mrecv\u001b[0m\u001b[0;34m(\u001b[0m\u001b[0mself\u001b[0m\u001b[0;34m.\u001b[0m\u001b[0mstdin_socket\u001b[0m\u001b[0;34m,\u001b[0m \u001b[0;36m0\u001b[0m\u001b[0;34m)\u001b[0m\u001b[0;34m\u001b[0m\u001b[0;34m\u001b[0m\u001b[0m\n\u001b[0m\u001b[1;32m    730\u001b[0m             \u001b[0;32mexcept\u001b[0m \u001b[0mException\u001b[0m\u001b[0;34m:\u001b[0m\u001b[0;34m\u001b[0m\u001b[0;34m\u001b[0m\u001b[0m\n",
            "\u001b[0;32m/usr/local/lib/python3.7/dist-packages/jupyter_client/session.py\u001b[0m in \u001b[0;36mrecv\u001b[0;34m(self, socket, mode, content, copy)\u001b[0m\n\u001b[1;32m    802\u001b[0m         \u001b[0;32mtry\u001b[0m\u001b[0;34m:\u001b[0m\u001b[0;34m\u001b[0m\u001b[0;34m\u001b[0m\u001b[0m\n\u001b[0;32m--> 803\u001b[0;31m             \u001b[0mmsg_list\u001b[0m \u001b[0;34m=\u001b[0m \u001b[0msocket\u001b[0m\u001b[0;34m.\u001b[0m\u001b[0mrecv_multipart\u001b[0m\u001b[0;34m(\u001b[0m\u001b[0mmode\u001b[0m\u001b[0;34m,\u001b[0m \u001b[0mcopy\u001b[0m\u001b[0;34m=\u001b[0m\u001b[0mcopy\u001b[0m\u001b[0;34m)\u001b[0m\u001b[0;34m\u001b[0m\u001b[0;34m\u001b[0m\u001b[0m\n\u001b[0m\u001b[1;32m    804\u001b[0m         \u001b[0;32mexcept\u001b[0m \u001b[0mzmq\u001b[0m\u001b[0;34m.\u001b[0m\u001b[0mZMQError\u001b[0m \u001b[0;32mas\u001b[0m \u001b[0me\u001b[0m\u001b[0;34m:\u001b[0m\u001b[0;34m\u001b[0m\u001b[0;34m\u001b[0m\u001b[0m\n",
            "\u001b[0;32m/usr/local/lib/python3.7/dist-packages/zmq/sugar/socket.py\u001b[0m in \u001b[0;36mrecv_multipart\u001b[0;34m(self, flags, copy, track)\u001b[0m\n\u001b[1;32m    624\u001b[0m         \"\"\"\n\u001b[0;32m--> 625\u001b[0;31m         \u001b[0mparts\u001b[0m \u001b[0;34m=\u001b[0m \u001b[0;34m[\u001b[0m\u001b[0mself\u001b[0m\u001b[0;34m.\u001b[0m\u001b[0mrecv\u001b[0m\u001b[0;34m(\u001b[0m\u001b[0mflags\u001b[0m\u001b[0;34m,\u001b[0m \u001b[0mcopy\u001b[0m\u001b[0;34m=\u001b[0m\u001b[0mcopy\u001b[0m\u001b[0;34m,\u001b[0m \u001b[0mtrack\u001b[0m\u001b[0;34m=\u001b[0m\u001b[0mtrack\u001b[0m\u001b[0;34m)\u001b[0m\u001b[0;34m]\u001b[0m\u001b[0;34m\u001b[0m\u001b[0;34m\u001b[0m\u001b[0m\n\u001b[0m\u001b[1;32m    626\u001b[0m         \u001b[0;31m# have first part already, only loop while more to receive\u001b[0m\u001b[0;34m\u001b[0m\u001b[0;34m\u001b[0m\u001b[0;34m\u001b[0m\u001b[0m\n",
            "\u001b[0;32mzmq/backend/cython/socket.pyx\u001b[0m in \u001b[0;36mzmq.backend.cython.socket.Socket.recv\u001b[0;34m()\u001b[0m\n",
            "\u001b[0;32mzmq/backend/cython/socket.pyx\u001b[0m in \u001b[0;36mzmq.backend.cython.socket.Socket.recv\u001b[0;34m()\u001b[0m\n",
            "\u001b[0;32mzmq/backend/cython/socket.pyx\u001b[0m in \u001b[0;36mzmq.backend.cython.socket._recv_copy\u001b[0;34m()\u001b[0m\n",
            "\u001b[0;32m/usr/local/lib/python3.7/dist-packages/zmq/backend/cython/checkrc.pxd\u001b[0m in \u001b[0;36mzmq.backend.cython.checkrc._check_rc\u001b[0;34m()\u001b[0m\n",
            "\u001b[0;31mKeyboardInterrupt\u001b[0m: ",
            "\nDuring handling of the above exception, another exception occurred:\n",
            "\u001b[0;31mKeyboardInterrupt\u001b[0m                         Traceback (most recent call last)",
            "\u001b[0;32m<ipython-input-7-7cdb41b97e09>\u001b[0m in \u001b[0;36m<module>\u001b[0;34m()\u001b[0m\n\u001b[1;32m      1\u001b[0m \u001b[0mfalsch_geraten\u001b[0m \u001b[0;34m=\u001b[0m \u001b[0;36m0\u001b[0m\u001b[0;34m\u001b[0m\u001b[0;34m\u001b[0m\u001b[0m\n\u001b[1;32m      2\u001b[0m \u001b[0;32mfor\u001b[0m \u001b[0mrunde\u001b[0m \u001b[0;32min\u001b[0m \u001b[0mrange\u001b[0m\u001b[0;34m(\u001b[0m\u001b[0;36m3\u001b[0m\u001b[0;34m)\u001b[0m\u001b[0;34m:\u001b[0m\u001b[0;34m\u001b[0m\u001b[0;34m\u001b[0m\u001b[0m\n\u001b[0;32m----> 3\u001b[0;31m   \u001b[0mbuchstabe\u001b[0m \u001b[0;34m=\u001b[0m \u001b[0minput\u001b[0m\u001b[0;34m(\u001b[0m\u001b[0;34m'Welcher Buchstabe?'\u001b[0m\u001b[0;34m)\u001b[0m\u001b[0;34m\u001b[0m\u001b[0;34m\u001b[0m\u001b[0m\n\u001b[0m\u001b[1;32m      4\u001b[0m   \u001b[0;32mif\u001b[0m \u001b[0mbuchstabe\u001b[0m \u001b[0;32mnot\u001b[0m \u001b[0;32min\u001b[0m \u001b[0mwort\u001b[0m\u001b[0;34m:\u001b[0m\u001b[0;34m\u001b[0m\u001b[0;34m\u001b[0m\u001b[0m\n\u001b[1;32m      5\u001b[0m     \u001b[0mfalsch_geraten\u001b[0m \u001b[0;34m+=\u001b[0m \u001b[0;36m1\u001b[0m\u001b[0;34m\u001b[0m\u001b[0;34m\u001b[0m\u001b[0m\n",
            "\u001b[0;32m/usr/local/lib/python3.7/dist-packages/ipykernel/kernelbase.py\u001b[0m in \u001b[0;36mraw_input\u001b[0;34m(self, prompt)\u001b[0m\n\u001b[1;32m    702\u001b[0m             \u001b[0mself\u001b[0m\u001b[0;34m.\u001b[0m\u001b[0m_parent_ident\u001b[0m\u001b[0;34m,\u001b[0m\u001b[0;34m\u001b[0m\u001b[0;34m\u001b[0m\u001b[0m\n\u001b[1;32m    703\u001b[0m             \u001b[0mself\u001b[0m\u001b[0;34m.\u001b[0m\u001b[0m_parent_header\u001b[0m\u001b[0;34m,\u001b[0m\u001b[0;34m\u001b[0m\u001b[0;34m\u001b[0m\u001b[0m\n\u001b[0;32m--> 704\u001b[0;31m             \u001b[0mpassword\u001b[0m\u001b[0;34m=\u001b[0m\u001b[0;32mFalse\u001b[0m\u001b[0;34m,\u001b[0m\u001b[0;34m\u001b[0m\u001b[0;34m\u001b[0m\u001b[0m\n\u001b[0m\u001b[1;32m    705\u001b[0m         )\n\u001b[1;32m    706\u001b[0m \u001b[0;34m\u001b[0m\u001b[0m\n",
            "\u001b[0;32m/usr/local/lib/python3.7/dist-packages/ipykernel/kernelbase.py\u001b[0m in \u001b[0;36m_input_request\u001b[0;34m(self, prompt, ident, parent, password)\u001b[0m\n\u001b[1;32m    732\u001b[0m             \u001b[0;32mexcept\u001b[0m \u001b[0mKeyboardInterrupt\u001b[0m\u001b[0;34m:\u001b[0m\u001b[0;34m\u001b[0m\u001b[0;34m\u001b[0m\u001b[0m\n\u001b[1;32m    733\u001b[0m                 \u001b[0;31m# re-raise KeyboardInterrupt, to truncate traceback\u001b[0m\u001b[0;34m\u001b[0m\u001b[0;34m\u001b[0m\u001b[0;34m\u001b[0m\u001b[0m\n\u001b[0;32m--> 734\u001b[0;31m                 \u001b[0;32mraise\u001b[0m \u001b[0mKeyboardInterrupt\u001b[0m\u001b[0;34m\u001b[0m\u001b[0;34m\u001b[0m\u001b[0m\n\u001b[0m\u001b[1;32m    735\u001b[0m             \u001b[0;32melse\u001b[0m\u001b[0;34m:\u001b[0m\u001b[0;34m\u001b[0m\u001b[0;34m\u001b[0m\u001b[0m\n\u001b[1;32m    736\u001b[0m                 \u001b[0;32mbreak\u001b[0m\u001b[0;34m\u001b[0m\u001b[0;34m\u001b[0m\u001b[0m\n",
            "\u001b[0;31mKeyboardInterrupt\u001b[0m: "
          ]
        }
      ]
    },
    {
      "cell_type": "markdown",
      "source": [
        "### Galgenmännchen zeichnen\n",
        "\n",
        "Erweitere dieses Programm, indem du nicht die Anzahl der falsch geratenen Buchstaben ausgibst, sondern stattdessen das entsprechende Galgenmännchen aus der folgenden Liste.\n",
        "\n",
        "Und wenn das Galgenmännchen vollständig ist, gib `'Du hast leider verloren.'` aus und stoppe die Schleife mit einem `break`-Befehl.\n",
        "\n",
        "💡 Tip: Das erste hangman-Bild bekommst du mit `hangman[0]`, das zweite mit `hangman[1]` und so weiter."
      ],
      "metadata": {
        "id": "pWMdWkvWex8g"
      }
    },
    {
      "cell_type": "code",
      "source": [
        "hangman = ['''\n",
        "  +---+\n",
        "  |   |\n",
        "      |\n",
        "      |\n",
        "      |\n",
        "      |\n",
        "=========''', '''\n",
        "  +---+\n",
        "  |   |\n",
        "  O   |\n",
        "      |\n",
        "      |\n",
        "      |\n",
        "=========''', '''\n",
        "  +---+\n",
        "  |   |\n",
        "  O   |\n",
        "  |   |\n",
        "      |\n",
        "      |\n",
        "=========''', '''\n",
        "  +---+\n",
        "  |   |\n",
        "  O   |\n",
        " /|   |\n",
        "      |\n",
        "      |\n",
        "=========''', '''\n",
        "  +---+\n",
        "  |   |\n",
        "  O   |\n",
        " /|\\  |\n",
        "      |\n",
        "      |\n",
        "=========''', '''\n",
        "  +---+\n",
        "  |   |\n",
        "  O   |\n",
        " /|\\  |\n",
        " /    |\n",
        "      |\n",
        "=========''', '''\n",
        "  +---+\n",
        "  |   |\n",
        "  O   |\n",
        " /|\\  |\n",
        " / \\  |\n",
        "      |\n",
        "=========''']"
      ],
      "metadata": {
        "id": "UD8UhuH1fLHL"
      },
      "execution_count": null,
      "outputs": []
    },
    {
      "cell_type": "code",
      "source": [
        "falsch_geraten = 0\n",
        "for runde in range(100):\n",
        "  buchstabe = input('Welcher Buchstabe?')\n",
        "  # Hier musst du die gleiche Bedingung benutzen wie in der vorigen Aufgabe\n",
        "  if _:\n",
        "    falsch_geraten += 1\n",
        "    # Hier musst du das richtige Hangman-Bild ausgeben\n",
        "    print(_)\n",
        "    # Hier musst du die Bedingung vervollständigen\n",
        "    if _:\n",
        "      print('Du hast leider verloren.')\n",
        "      break\n"
      ],
      "metadata": {
        "id": "xgHHCBZQexTV"
      },
      "execution_count": null,
      "outputs": []
    },
    {
      "cell_type": "markdown",
      "source": [
        "### Alles zusammenbringen\n",
        "\n",
        "Nun brauchst du nur noch alles zu einem Hangman-Spiel zusammenzubringen!"
      ],
      "metadata": {
        "id": "eGAxS1fZff8D"
      }
    },
    {
      "cell_type": "code",
      "source": [
        "from getpass import getpass\n",
        "wort = getpass('Psst! Welches Wort soll erraten werden?')\n",
        "\n",
        "ausgabe = '_ ' * len(wort)\n",
        "falsch_geraten = 0\n",
        "for runde in range(100):\n",
        "  buchstabe = input('Welcher Buchstabe?')\n",
        "  # Hier musst du prüfen, ob der Buchstabe im Wort vorkommt\n",
        "  if _:\n",
        "    # Kopiere hier deinen Code von oben für den Fall, dass der Buchstabe\n",
        "    # im Wort vorkommt.\n",
        "  else:\n",
        "    # Kopiere hier deinen Code von oben für den Fall, dass der Buchstabe\n",
        "    # nicht im Wort vorkommt."
      ],
      "metadata": {
        "id": "oWLXn065RW99"
      },
      "execution_count": null,
      "outputs": []
    }
  ]
}