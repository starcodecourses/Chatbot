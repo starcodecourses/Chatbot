{
  "cells": [
    {
      "cell_type": "markdown",
      "source": [
        "# Einführung in Python und Notebooks 📔🐍\n",
        "\n",
        "Python ist eine sehr beliebte Programmiersprache, die von vielen Menschen verwendet wird. Man kann sie in verschiedenen Bereichen nutzen, zum Beispiel um Webseiten zu programmieren, Spiele zu entwickeln, Daten auszuwerten oder auch um einen Chatbot zu programmieren. <br> Um mit Python zu arbeiten, gibt es verschiedene *Entwicklungsumgebungen*, so nennt man Programme, mit denen man den Code schreiben kann. Für unseren Kurs benutzen wir *Notebooks* wie dieses. <br><br> In Notebooks wird der Code und auch Text in Blöcken geschrieben, was sehr übersichtlich ist. Jetzt wollen wir uns erstmal mit Python und Notebooks vertraut machen!\n",
        "\n"
      ],
      "metadata": {
        "id": "tAyKmqDOQ9tP"
      }
    },
    {
      "cell_type": "markdown",
      "source": [
        "\n",
        "\n",
        " <font color='orange'>***Aufgabe a)*** <br>\n",
        "  Füge einen neuen Codeblock und einen neuen Textblock hinzu. Dafür musst du oben in der Leiste auf `+ Code` und `+ Text` klicken. Du kannst versuchen, den Inhalt zu bearbeiten, die Reihenfolge zu verändern und die Blöcke auch wieder zu löschen.\n",
        "\n",
        "*Tipp: Im Laufe dieses Kurses kannst du immer Codeblöcke hinzufügen, wenn du mal etwas ausprobieren möchtest. Python lernt man am besten, wenn man einfach herumprobiert und schaut, was passiert!*</font>"
      ],
      "metadata": {
        "id": "k5Syrdg8RUk3"
      }
    },
    {
      "cell_type": "markdown",
      "metadata": {
        "id": "9dc7DXZ814AF"
      },
      "source": [
        "# Eingabe und Ausgabe 🗨💬\n",
        "\n",
        "Das wichtigste bei einem Chatbot ist, zuhören und antworten zu können. Fangen wir mal beim Antworten an. In Python ist die Funktion `print` dafür da, Text auszugeben. Der Text selbst muss in Anführungszeichen stehen. Das sieht dann so aus:\n",
        "\n",
        "`print('Dieser Text wird ausgegeben')`\n",
        "\n",
        "Ein Text oder eine Zeichenfolge in Anführungszeichen heißt in der Informatik übrigens *String*. Das ist einer der wichtigsten Datentypen in der Informatik. Ein paar weitere werden wir noch kennenlernen.\n",
        "\n",
        "\n",
        "In guter Informatiktradition ist hier dein erstes Programm: Es gibt den Text `'Hello, world!'` aus. Versuch einmal, das Programm auszuführen, indem du in das Programm klickst und dann auf den weißen Pfeil auf schwarzem Grund."
      ]
    },
    {
      "cell_type": "code",
      "execution_count": 1,
      "metadata": {
        "id": "wbB_96rnTDAR",
        "colab": {
          "base_uri": "https://localhost:8080/"
        },
        "outputId": "004b9e9e-0651-4f94-840c-068a2057083e"
      },
      "outputs": [
        {
          "output_type": "stream",
          "name": "stdout",
          "text": [
            "Hello, world!\n"
          ]
        }
      ],
      "source": [
        "print(\"Hello, world!\")"
      ]
    },
    {
      "cell_type": "markdown",
      "source": [
        "Jetzt du!\n",
        "\n",
        "<font color='orange'>***Aufgabe b)*** <br>  Schreibe ein Programm wie oben mit dem `print`-Befehl, das deinen Namen ausgibt.</font>"
      ],
      "metadata": {
        "id": "0fRsAVwE72S8"
      }
    },
    {
      "cell_type": "code",
      "source": [
        "# Lösung\n",
        "\n",
        "print(\"Frida\")"
      ],
      "metadata": {
        "id": "VjlfD5cO71uC",
        "colab": {
          "base_uri": "https://localhost:8080/"
        },
        "outputId": "56efceb8-bb7a-4776-8fea-cfab72944d22"
      },
      "execution_count": 17,
      "outputs": [
        {
          "output_type": "stream",
          "name": "stdout",
          "text": [
            "Frida\n"
          ]
        }
      ]
    },
    {
      "cell_type": "markdown",
      "source": [
        "Fantastisch!\n",
        "\n",
        "Übrigens: Codezeilen mit einem **#** davor werden nicht ausgeführt. Man nennt sie *Kommentare*, denn man kann damit seinen Code mit Erkärungen kommentieren, sodass andere ihn verstehen können. Wenn man **#** hinter eine Codezeile schreibt, wir der Rest der Zeile auch ignoriert. Hier ein Beispiel:"
      ],
      "metadata": {
        "id": "5nM8XFN5WYD7"
      }
    },
    {
      "cell_type": "code",
      "source": [
        "# Das ist ein Kommentar."
      ],
      "metadata": {
        "id": "ahe-gFsGXBHY"
      },
      "execution_count": 3,
      "outputs": []
    },
    {
      "cell_type": "code",
      "source": [
        "print(\"Diese Zeile wird ausgeführt\")  # aber nur bist zum \"#\""
      ],
      "metadata": {
        "id": "G1TKcPMHXBTQ",
        "colab": {
          "base_uri": "https://localhost:8080/"
        },
        "outputId": "55e486d6-1b75-478b-fb8a-9ed05b245888"
      },
      "execution_count": 4,
      "outputs": [
        {
          "output_type": "stream",
          "name": "stdout",
          "text": [
            "Diese Zeile wird ausgeführt\n"
          ]
        }
      ]
    },
    {
      "cell_type": "markdown",
      "metadata": {
        "id": "r1oi77TwUnkT"
      },
      "source": [
        "Nächster Schritt: Lassen wir unseren Chatbot 'Happy Birthday' singen. Zur Erinnerung, der Text geht so:\n",
        "\n",
        "```\n",
        "Happy birthday to you!\n",
        "Happy birthday to you!\n",
        "Happy birthday, dear Geburtstagskind!\n",
        "Happy birthday to you!\n",
        "```\n",
        "\n",
        "<font color='orange'>***Aufgabe c)*** <br>\n",
        " Schreibe ein Programm, das den Text von \"Happy Birthday\" ausgibt.\n",
        "\n",
        "*Tipp: Für diese Aufgabe müsst ihr vier mal `print` aufrufen, jeweils in einer neuen Zeile.*</font>\n"
      ]
    },
    {
      "cell_type": "code",
      "execution_count": 5,
      "metadata": {
        "id": "pgxlG1X5VrD_",
        "colab": {
          "base_uri": "https://localhost:8080/"
        },
        "outputId": "3811cacc-2e8f-4a15-8ddd-439bbc711292"
      },
      "outputs": [
        {
          "output_type": "stream",
          "name": "stdout",
          "text": [
            "Happy birthday to you!\n",
            "Happy birthday to you!\n",
            "Happy birthday, dear Geburtstagskind!\n",
            "Happy birthday to you!\n"
          ]
        }
      ],
      "source": [
        "# Lösung\n",
        "\n",
        "print(\"Happy birthday to you!\")\n",
        "print(\"Happy birthday to you!\")\n",
        "print(\"Happy birthday, dear Geburtstagskind!\")\n",
        "print(\"Happy birthday to you!\")"
      ]
    },
    {
      "cell_type": "markdown",
      "metadata": {
        "id": "2RcowlldV50h"
      },
      "source": [
        "Sehr feierlich, das alles. Nun sollte aber bereits ein bisschen Faulheit zuschlagen: Vier mal 'Happy birthday to you' schreiben ist viel zu viel Arbeit! Wir können das abkürzen, indem wir den Text 'Happy birthday to you' in einer so genannten Variable abspeichern und dann wiederverwenden. Das sieht dann ungefähr so aus:\n",
        "\n",
        "```\n",
        "x = 'Happy birthday to you!'\n",
        "print(x)\n",
        "```\n",
        "In diesem Beispiel haben wir die Variable `x` genannt. Wir hätten sie aber auch `y`, `geburtstagsgruss`oder ganz anders nennen können.\n",
        "\n",
        "\n",
        "\n",
        "<font color='orange'>***Aufgabe c)***<br>\n",
        "  Schreibe das Happy Birthday-Programm noch einmal und benutze eine Variable.</font>"
      ]
    },
    {
      "cell_type": "code",
      "execution_count": 6,
      "metadata": {
        "id": "lnTiDv9BV447",
        "colab": {
          "base_uri": "https://localhost:8080/"
        },
        "outputId": "dae484dd-d92f-40cb-bda4-e7945b378c5d"
      },
      "outputs": [
        {
          "output_type": "stream",
          "name": "stdout",
          "text": [
            "Happy birthday to you!\n",
            "Happy birthday to you!\n",
            "Happy birthday, dear Geburtstagskind!\n",
            "Happy birthday to you!\n"
          ]
        }
      ],
      "source": [
        "# Lösung\n",
        "\n",
        "x = \"Happy birthday to you!\"\n",
        "print(x)\n",
        "print(x)\n",
        "print(\"Happy birthday, dear Geburtstagskind!\")\n",
        "print(x)"
      ]
    },
    {
      "cell_type": "markdown",
      "source": [
        "Der Hauptvorteil von Variablen ist, dass wenn man sie ändert, müssen wir nur *eine* Änderung vornehmen, wenn wir die Variable definieren und nicht an allen Stellen in unserem Code.\n",
        "\n"
      ],
      "metadata": {
        "id": "SxEmMArAm0ZE"
      }
    },
    {
      "cell_type": "markdown",
      "source": [
        "\n",
        "<font color='orange'>***Aufgabe d)*** <br>  Schreibe ein Programm, dass das Geburtstagslied auf Deutsch ausgibt, indem du wie vorhin eine Variable benutzt. Zur Erinnerung, der Text lautet:\n",
        "\n",
        "\n",
        "```\n",
        "Zum Geburtstag viel Glück\n",
        "Zum Geburtstag viel Glück\n",
        "Zum Geburtstag, liebes Geburtstagskind\n",
        "Zum Geburtstag viel Glück\n",
        "```\n",
        "*Tipp: Du kannst den Text der englischen Version kopieren und einfügen. Damit sparst du am meisten Zeit, und darum geht es bei Variablen ja 😉* </font>\n"
      ],
      "metadata": {
        "id": "SKk9RAUcmec_"
      }
    },
    {
      "cell_type": "code",
      "source": [
        "# Lösung\n",
        "\n",
        "x = \"Zum Geburtstag viel Glück!\"\n",
        "print(x)\n",
        "print(x)\n",
        "print(\"Zum Geburtstag, liebes Geburtstagskind\")\n",
        "print(x)"
      ],
      "metadata": {
        "id": "st_tMh4vscsP",
        "colab": {
          "base_uri": "https://localhost:8080/"
        },
        "outputId": "a29c8a54-4228-457c-f479-93788cdd7780"
      },
      "execution_count": 8,
      "outputs": [
        {
          "output_type": "stream",
          "name": "stdout",
          "text": [
            "Zum Geburtstag viel Glück!\n",
            "Zum Geburtstag viel Glück!\n",
            "Zum Geburtstag, liebes Geburtstagskind\n",
            "Zum Geburtstag viel Glück!\n"
          ]
        }
      ]
    },
    {
      "cell_type": "markdown",
      "metadata": {
        "id": "U6xamWxoXARm"
      },
      "source": [
        "\n",
        "Vielleicht ist dir ein Problem aufgefallen: In der dritten Zeile des Liedes können wir die Variable nicht benutzen, weil wir dort nur Teile des in der Variable gespeichteren Textes benutzen, aber eine andere Endung. Aber das lässt sich beheben, und indem wir nur bestimmte Texbausteine in einer Variablen speichern und aneinander anhängen. Wie hängt man etwas an? Mit einem Pluszeichen! Das sieht dann z.B. so aus:\n",
        "\n",
        "\n",
        "\n",
        "```\n",
        "x = 'Happy birthday to you'\n",
        "print(x + '!')\n",
        "```\n"
      ]
    },
    {
      "cell_type": "markdown",
      "source": [
        "<font color='orange'>***Aufgabe e)*** <br>  Speichere in einer Variable `x` \"Happy birthday\" und ein einer anderen Variable `y` den Text \" to you!\". Gebe dann die erste Zeile des Liedes aus, indem du die Texte mit Pluszeichen aneinander hängst."
      ],
      "metadata": {
        "id": "kinMq37PzjfC"
      }
    },
    {
      "cell_type": "code",
      "source": [
        "# Lösung\n",
        "\n",
        "x = \"Happy birthday\"\n",
        "y = \" to you!\"\n",
        "\n",
        "print(x + y)"
      ],
      "metadata": {
        "id": "orhUlJ0LyADc",
        "colab": {
          "base_uri": "https://localhost:8080/"
        },
        "outputId": "7fa6aa11-8a21-417e-e981-979c9f8b54b3"
      },
      "execution_count": 11,
      "outputs": [
        {
          "output_type": "stream",
          "name": "stdout",
          "text": [
            "Happy birthday to you!\n"
          ]
        }
      ]
    },
    {
      "cell_type": "markdown",
      "source": [
        "\n",
        "<font color='orange'>***Aufgabe f)*** <br>  Versuche  einmal selbst, den Text des Geburtstagsliedes (entweder der deutschen oder englischen Version) mithilfe von zwei Variablen und Pluszeichen ausgeben zu lassen!</font>\n",
        "\n"
      ],
      "metadata": {
        "id": "e04N_7ZlyNAJ"
      }
    },
    {
      "cell_type": "code",
      "execution_count": null,
      "metadata": {
        "id": "P7ickwJXW91f"
      },
      "outputs": [],
      "source": [
        "# Lösung englische Version\n",
        "\n",
        "x = \"Happy birthday\"\n",
        "y = \" to you!\"\n",
        "\n",
        "print(x + y)\n",
        "print(x + y)\n",
        "print(x + \", dear Geburtstagskind!\")\n",
        "print(x + y)"
      ]
    },
    {
      "cell_type": "code",
      "source": [
        "# Lösung deutsche Verion\n",
        "\n",
        "x = \"Zum Geburtstag\"\n",
        "y = \" viel Glück\"\n",
        "\n",
        "print(x + y)\n",
        "print(x + y)\n",
        "print(x + \", liebes Geburtstagskind\")\n",
        "print(x + y)"
      ],
      "metadata": {
        "colab": {
          "base_uri": "https://localhost:8080/"
        },
        "id": "jyJMFvp99xEY",
        "outputId": "eee3aeb9-7821-4066-b127-7e40361d8e70"
      },
      "execution_count": 13,
      "outputs": [
        {
          "output_type": "stream",
          "name": "stdout",
          "text": [
            "Zum Geburtstag viel Glück\n",
            "Zum Geburtstag viel Glück\n",
            "Zum Geburtstag, liebes Geburtstagskind\n",
            "Zum Geburtstag viel Glück\n"
          ]
        }
      ]
    },
    {
      "cell_type": "markdown",
      "metadata": {
        "id": "ObGLm8OPYNtx"
      },
      "source": [
        "Na gut, man kann sich streiten, ob unser Programm nun wirklich einfacher geworden ist. Ein typisches Informatikproblem: Wir versuchen, Dinge zu automatisieren, um sie einfacher zu machen – aber dann werden sie gar nicht einfacher.\n",
        "\n",
        "Aber zurück zum Thema: Es gibt einen Fall, bei dem wir Variablen auf jeden Fall brauchen, nämlich wenn unser Chatbot zuhören soll. In Python ist die Funktion `input` dafür da, Text einzulesen. Das funktioniert wie folgt: Wir geben der Funktion zuerst einen Text mit, der ausgegeben werden soll (zum Beispiel eine Frage oder eine Aufforderung an die Person, die das Programm benutzt). Dann hält das Programm an und wartet darauf, dass man einen Text eingibt. Diese Eingabe muss dann von uns in einer Variable gespeichert werden. Das sieht ungefähr so aus:\n",
        "\n",
        "`text = input('Bitte gib mir Text!')`\n",
        "\n",
        "Wenn dieses Programm durchgelaufen ist, dann ist in der Variable `text` der Text abgespeichert, den man eingegeben hat."
      ]
    },
    {
      "cell_type": "markdown",
      "source": [
        "<font color='orange'>***Aufgabe g)*** <br>  Führe das folgende Programm einmal aus und gebe dabei ein Wort oder einen Text deiner Wahl ein.\n",
        "\n",
        "*Tipp: Nach der Eingabe mit du auf `Enter` drücken, damit die Eingabe gespeichert wird und das Programm weiterläuft.*</font>"
      ],
      "metadata": {
        "id": "-kchX1OptH43"
      }
    },
    {
      "cell_type": "code",
      "source": [
        "text = input('Bitte gib mir Text!')\n",
        "print(text)"
      ],
      "metadata": {
        "id": "8wVj_uyMXp8A",
        "colab": {
          "base_uri": "https://localhost:8080/"
        },
        "outputId": "55bbc479-bc0d-49db-92f0-42b3a739cb56"
      },
      "execution_count": 14,
      "outputs": [
        {
          "output_type": "stream",
          "name": "stdout",
          "text": [
            "Bitte gib mir Text!Hallo\n",
            "Hallo\n"
          ]
        }
      ]
    },
    {
      "cell_type": "markdown",
      "source": [
        "Versuchen wir einmal, das anzuwenden!\n",
        "\n",
        "<font color='orange'>***Aufgabe h)*** <br> Schreibe einen Chatbot, der nach dem Namen fragt und anschließend sagt, dass *name* (der eingegebene Name) ein schöner Name ist. Das soll z.B. dann so aussehen:\n",
        "\n",
        "\n",
        "\n",
        "```\n",
        "Wie heißt du? - Frida\n",
        "Frida ist ein schöner Name!\n",
        "```\n"
      ],
      "metadata": {
        "id": "VjcVgro_XpAd"
      }
    },
    {
      "cell_type": "code",
      "source": [
        "# Lösung\n",
        "\n",
        "name = input(\"Wie heißt du?\")\n",
        "print(name + \" ist ein schöner Name!\")"
      ],
      "metadata": {
        "id": "BukmFByHuY3K",
        "colab": {
          "base_uri": "https://localhost:8080/"
        },
        "outputId": "93f811d7-9054-4172-b142-9ca08ceb49d4"
      },
      "execution_count": 16,
      "outputs": [
        {
          "output_type": "stream",
          "name": "stdout",
          "text": [
            "Wie heißt du?Frida\n",
            "Frida ist ein schöner Name!\n"
          ]
        }
      ]
    },
    {
      "cell_type": "markdown",
      "source": [
        "<font color='orange'>***Aufgabe i)*** <br> Schreibe eine neue Version des Geburtstagsprogramms, aber diesmal fragt unser Programm zu Beginn, wie das Geburtstagskind denn heißt und besingt dann genau diesen Namen.</font>"
      ],
      "metadata": {
        "id": "YuwyK2vMuYDF"
      }
    },
    {
      "cell_type": "code",
      "execution_count": 18,
      "metadata": {
        "id": "t2NZzf_tTEiZ",
        "colab": {
          "base_uri": "https://localhost:8080/"
        },
        "outputId": "2fe9a0b1-53e7-40a1-9d2b-c63981e6c213"
      },
      "outputs": [
        {
          "output_type": "stream",
          "name": "stdout",
          "text": [
            "Wie heißt du?Frida\n",
            "Happy birthday to you!\n",
            "Happy birthday to you!\n",
            "Happy birthday, dear Frida!\n",
            "Happy birthday to you!\n"
          ]
        }
      ],
      "source": [
        "# Lösung (es gibt viele verschiedene Möglichkeiten, da hier auch Variablen benutzt werden können)\n",
        "\n",
        "name = input(\"Wie heißt du?\")\n",
        "print(\"Happy birthday to you!\")\n",
        "print(\"Happy birthday to you!\")\n",
        "print(\"Happy birthday, dear \" + name + \"!\")\n",
        "print(\"Happy birthday to you!\")\n"
      ]
    },
    {
      "cell_type": "markdown",
      "source": [
        "Super! Jetzt haben wir schon unsere ersten kleinen Chatbots gebaut."
      ],
      "metadata": {
        "id": "QRsiaUGxTJ56"
      }
    },
    {
      "cell_type": "markdown",
      "source": [
        "# Zusatzaufgaben ▶"
      ],
      "metadata": {
        "id": "77U506V1znb5"
      }
    },
    {
      "cell_type": "markdown",
      "metadata": {
        "id": "AUCjBnEoLjoa"
      },
      "source": [
        "Wir haben bereits gelernt, dass man Texte zusammenhängen kann, indem man ein Pluszeichen benutzt. Es funktioniert auch, einen Text zu vervielfältigen, indem man ein Malzeichen benutzt. Das sieht dann ungefähr so aus:\n",
        "\n",
        "```\n",
        "print('Na' * 4)\n",
        "```\n",
        "\n",
        "Kombiniere mal und plus, um den Text `nana nana nana nana, nana nana nana nana, Batman!` auszugeben.\n",
        "\n",
        "<font color='orange'>***Aufgabe j)*** <br> Kombiniere mal und plus, um den Text `nana nana nana nana, nana nana nana nana, Batman!` auszugeben.\n",
        "\n",
        "*Bemerkung: Hier gibt es mehrere Möglichkeiten, die Aufgabe zu lösen.*</font>"
      ]
    },
    {
      "cell_type": "code",
      "execution_count": 19,
      "metadata": {
        "id": "wHBz4LH0LBo9",
        "colab": {
          "base_uri": "https://localhost:8080/"
        },
        "outputId": "e3a8c5c5-e727-4c99-8903-e5c1f12d0a4d"
      },
      "outputs": [
        {
          "output_type": "stream",
          "name": "stdout",
          "text": [
            "nana nana nana nana, nana nana nana nana, Batman!\n"
          ]
        }
      ],
      "source": [
        "# Lösung: hier kann man sich austoben, DIE richtige Lösung gibt es nicht\n",
        "\n",
        "x = \"nana\"\n",
        "\n",
        "print(((x + \" \")*3 + x + \", \")*2 + \"Batman!\")\n"
      ]
    },
    {
      "cell_type": "markdown",
      "source": [
        "Manchmal müssen wir nicht nur Text zusammenbauen, sondern Text auseinander nehmen. Wenn ich zum Beispiel den vierten Buchstaben eines Textes angezeigt haben will, dann kann ich schreiben:\n",
        "\n",
        "\n",
        "```\n",
        "print(text[3])\n",
        "```\n",
        "\n",
        "Warum 3? Weil Computer gern bei Null mit dem Zählen anfangen.\n",
        "\n",
        "Um den ersten Buchstaben eines Textes anzuzeigen, kann ich also schreiben\n",
        "\n",
        "```\n",
        "print(text[0])\n",
        "```\n"
      ],
      "metadata": {
        "id": "Udr129Sin-_f"
      }
    },
    {
      "cell_type": "markdown",
      "source": [
        "<font color='orange'>***Aufgabe k)***<br>  Benutzen wir das für einen kleinen Geheimcode. Schreib ein Programm, das nach einem Text fragt und dann den vierten, den zweiten, den neunten, den zehnten und den letzten Buchstaben ausgibt. Wenn ich zum Beispiel 'Happy Birthday' eingebe, sollte 'party' ausgegeben werden.\n",
        "\n",
        "*Tipp: Um den letzten Buchstaben auszugeben brauchst du die Länge des Eingabetextes. Die erfährst du über `len(text)`.*</font>"
      ],
      "metadata": {
        "id": "B7xP8_cSpCEA"
      }
    },
    {
      "cell_type": "code",
      "source": [
        "# Lösung\n",
        "\n",
        "text = input(\"Gib mir Text!\")\n",
        "print(text[3] + text[1] + text[8] + text[9] + text[len(text)-1])"
      ],
      "metadata": {
        "id": "H6Piz7hcosN3",
        "colab": {
          "base_uri": "https://localhost:8080/"
        },
        "outputId": "f5c5bbb6-d85e-4c1e-ff0e-77770cae11b7"
      },
      "execution_count": 22,
      "outputs": [
        {
          "output_type": "stream",
          "name": "stdout",
          "text": [
            "Gib mir Text!Happy birthday\n",
            "party\n"
          ]
        }
      ]
    }
  ],
  "metadata": {
    "colab": {
      "provenance": [],
      "toc_visible": true
    },
    "kernelspec": {
      "display_name": "Python 3",
      "language": "python",
      "name": "python3"
    },
    "language_info": {
      "codemirror_mode": {
        "name": "ipython",
        "version": 3
      },
      "file_extension": ".py",
      "mimetype": "text/x-python",
      "name": "python",
      "nbconvert_exporter": "python",
      "pygments_lexer": "ipython3",
      "version": "3.8.3"
    }
  },
  "nbformat": 4,
  "nbformat_minor": 0
}