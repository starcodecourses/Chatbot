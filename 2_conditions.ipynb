{
  "cells": [
    {
      "cell_type": "markdown",
      "metadata": {
        "id": "Y6SbIbsX3zJn"
      },
      "source": [
        "# Bedingungen 🌳\n",
        "\n",
        "Nach dem wir gelernt haben mit Texten umzugehen, ist es Zeit mit der Information, die man bekommt, was anzufangen! 🎉\n",
        "\n",
        "Ein wichtiger Aspekt beim Chatbot ist es, durch Bedingungen verschiedene Entscheidungen zu treffen."
      ]
    },
    {
      "cell_type": "markdown",
      "metadata": {
        "id": "-jaWdAa35eBl"
      },
      "source": [
        "Wir greifen ein Codeausschnitt der Textübungen auf. Jetzt wollen wir nicht nur den Namen des Geburtstagskind wissen, sondern auch, wie alt es ist. Dafür fügen wir eine neue Variable `alter` hinzu!"
      ]
    },
    {
      "cell_type": "markdown",
      "metadata": {
        "id": "d5kODLyqYtBv"
      },
      "source": [
        "\n",
        "\n",
        " <font color='orange'>***Aufgabe a)*** <br>\n",
        "  Führe einmal den folgenden Codeblock aus und gebe deinen Namen und dein Alter ein.</font>"
      ]
    },
    {
      "cell_type": "code",
      "execution_count": null,
      "metadata": {
        "id": "tT2n2NWuVjcx"
      },
      "outputs": [],
      "source": [
        "name = input(\"Wie heißt das Geburtstagskind?\")\n",
        "alter = input(\"Wie alt ist das Geburtstagskind?\")"
      ]
    },
    {
      "cell_type": "markdown",
      "metadata": {
        "id": "XkY4_vAPH7ed"
      },
      "source": [
        "Wir haben bisher nur mit Texten gearbeitet. Die Variable `alter` ist, obwohl wir eine Zahl eingeben, immer noch ein Text in Anführungszeichen wie die Variable `name`. Mit einem Text können wir allerdings keine Rechenoperationen durchführen. Wir würden also z.B. mit einem Pluszeichen, keine Addition der Zahlen, sondern nur ein Aneinanderhängen der Zahlen erreichen.\n",
        "\n",
        "Die Frage ist, wie kann man das Alter des Geburtstagskind in eine Zahl verwandeln?\n",
        "\n",
        "Das geht sehr einfach! <font color=#EA5C19>\"**int**\"</font>, kurz für integer, bedeutet auf Englisch ganze Zahl."
      ]
    },
    {
      "cell_type": "code",
      "execution_count": null,
      "metadata": {
        "id": "a5fBcRyuIo7i"
      },
      "outputs": [],
      "source": [
        "print(alter)\n",
        "alter = int(alter)\n",
        "print(alter)"
      ]
    },
    {
      "cell_type": "markdown",
      "metadata": {
        "id": "T8GYR4QP6Tmn"
      },
      "source": [
        "Wir wollen jetzt wissen, ob das Geburtstagskind ein Kind ist (Alter 0-12 Jahre) 👧🏽. Um das herauszufinden brauchen wir die Einführung der Bedingung des Alters. Das schafft man durch <font color=#EA5C19>\"if-else\"</font>.\n",
        "\n",
        "\n",
        "if (Bedingung ist erfüllt):\n",
        "\n",
        "*  dieser Code wird ausgeführt\n",
        "\n",
        "else:\n",
        "\n",
        "*  dieser Code wird ausgeführt\n",
        "\n",
        "\n",
        "\n",
        "Das heißt, ist die Bedingung erfüllt, wird unser Chatbot den Code des if-statements ausführt und ansonstens den anderen (else). In Code sieht das dann so aus:"
      ]
    },
    {
      "cell_type": "code",
      "execution_count": null,
      "metadata": {
        "id": "74FXSptCVjc5"
      },
      "outputs": [],
      "source": [
        "if alter < 13:\n",
        "  print(\"Das Geburtstagskind ist ein Kind!\")\n",
        "else:\n",
        "  print(\"Das Geburtstagskind ist kein Kind!\")"
      ]
    },
    {
      "cell_type": "markdown",
      "metadata": {
        "id": "lTFF2vRLZvFY"
      },
      "source": [
        "\n",
        "\n",
        " <font color='orange'>***Aufgabe b)*** <br>\n",
        "  Führe die obigen Codeblöcke für verschiedene Alterseingaben aus und schaue, was ausgegeben wird!</font>"
      ]
    },
    {
      "cell_type": "markdown",
      "metadata": {
        "id": "EpFewJHM-HDL"
      },
      "source": [
        "\n",
        "\n",
        " <font color='orange'>***Aufgabe c)*** <br>\n",
        "  Probiere, das else-statement im letzten Codeblock wegzulassen. Was fällt dir auf?</font>"
      ]
    },
    {
      "cell_type": "code",
      "execution_count": null,
      "metadata": {
        "id": "Os13YSG3-ulR"
      },
      "outputs": [],
      "source": [
        "# Dein Code hier"
      ]
    },
    {
      "cell_type": "markdown",
      "metadata": {
        "id": "NWgP-Czl-zQT"
      },
      "source": [
        "Genau! Das else-statement ist optional! Unser Code läuft auch wenn es kein else-statement gibt."
      ]
    },
    {
      "cell_type": "markdown",
      "metadata": {
        "id": "8M6ISj_EHKMH"
      },
      "source": [
        "<font color='orange'>***Aufgabe d)*** <br>\n",
        "  Schreibe ein Programm, das nach dem Alter einer Person fragt und ausgibt, ob die Person volljährig ist oder nicht.\n",
        "  \n",
        "  *Tipp: Du kannst dich an den drei obigen Codeblöcken orientieren.*</font>"
      ]
    },
    {
      "cell_type": "code",
      "execution_count": null,
      "metadata": {
        "id": "OAOppI6BHPph"
      },
      "outputs": [],
      "source": [
        "# Dein Code hier"
      ]
    },
    {
      "cell_type": "markdown",
      "metadata": {
        "id": "98U0Er6B_b67"
      },
      "source": [
        "Es gibt nicht nur if-else, sondern auch elif. <font color=#EA5C19>\"elif\"</font> ist eine Kombination aus \"else-if\". Das heißt: Wenn die Bedingung im if-statement nicht erfüllt wurde, schaut das Programm nach, ob die Bedingung im elif-statement erfüllt wird und wenn die nicht erfüllt wird ,schaut es im else-statement nach, falls eins vorhanden ist.\n",
        "\n",
        "if (Bedingung ist erfüllt):\n",
        "\n",
        "* dieser Code wird ausgeführt\n",
        "\n",
        "elif (Bedingung ist erfüllt):\n",
        "\n",
        "* dieser Code wird ausgeführt\n",
        "\n",
        "else:\n",
        "\n",
        "* dieser Code wird ausgeführt\n",
        "\n",
        "\n",
        "<br>\n",
        "\n",
        "<font color='orange'>***Aufgabe e)***<br>  Schreibe einen Programm, dass widergibt, ob das Geburtstagskind ein Kind (0-12 Jahre) 👧🏽, Jugendlicher (13-19 Jahre) 👩🏻‍🦰 oder Erwachsener (ab 20 Jahre)  👩🏾‍🦳 ist. Ersetze dafür im folgenden Codeblöck die Unterstriche mit den richtigen Bedingungen!\n",
        "\n",
        "*Tipp: Für Jugendliche könnt ihr zwei Bedingungen verwenden, die mit einem und --and-- verbunden sind, d.h. `alter > 12 and alter < 2`.*</font>\n",
        "\n",
        "\n"
      ]
    },
    {
      "cell_type": "code",
      "execution_count": null,
      "metadata": {
        "id": "_KogvvR-Vjc8"
      },
      "outputs": [],
      "source": [
        "if _:\n",
        "  print(\"Das Geburtstagskind ist ein Kind!\")\n",
        "elif _:\n",
        "  print(\"Das Geburtstagskind ist ein Jugendlicher\")\n",
        "else:\n",
        "  print(\"Das Geburtstagskind ist ein Erwachsener\")"
      ]
    },
    {
      "cell_type": "markdown",
      "metadata": {
        "id": "fxiuCSqJClIH"
      },
      "source": [
        "Nun wollen wir den Namen und Alter von einer weiteren Person wissen."
      ]
    },
    {
      "cell_type": "code",
      "execution_count": null,
      "metadata": {
        "id": "amzkoLbSVjc-"
      },
      "outputs": [],
      "source": [
        "name_person1 = input('Wie heißt das erste Geburtstagskind?')\n",
        "alter_person1 = input(\"Wie alt ist das erste Geburtstagskind?\")\n",
        "\n",
        "name_person2 = input('Wie heißt das zweite Geburtstagskind?')\n",
        "alter_person2 = input(\"Wie alt ist das zweite Geburtstagskind?\")"
      ]
    },
    {
      "cell_type": "markdown",
      "metadata": {
        "id": "aGkx97ftNMvE"
      },
      "source": [
        "<font color='orange'>***Aufgabe f)***<br>  Schreibe ein Programm, dass überprüft, ob die Personen gleich alt sind oder nicht.\n",
        "\n",
        "*Tipp: Möchtest du herausfinden, ob zwei Objekte glich sind musst du ein doppeltes Gleichzeichen `==` benutzen. Sonst geht der Computer davon aus, dass du eine neue Variable definieren willst.*</font>"
      ]
    },
    {
      "cell_type": "code",
      "execution_count": null,
      "metadata": {
        "id": "styInhxnNNBG"
      },
      "outputs": [],
      "source": [
        "# Dein Code hier"
      ]
    },
    {
      "cell_type": "markdown",
      "metadata": {
        "id": "P8_I5FOfF4Zb"
      },
      "source": [
        "Jetzt wollen wir wissen, welches Geburtstagskind das ältere ist, oder ob sie gleich alt sind!\n",
        "\n",
        "\n",
        "<font color='orange'>***Aufgabe g)***<br>  Schreibe ein Programm, das dies herausfindet! Ersetze hierfür wieder die Unterstriche mit den richtigen Bedingungen.</font>"
      ]
    },
    {
      "cell_type": "code",
      "execution_count": null,
      "metadata": {
        "id": "Rn9TpBg0VjdA"
      },
      "outputs": [],
      "source": [
        "# Was sind hier die richtigen Bedingungen?\n",
        "if _:\n",
        "  print(name_person2 + \" ist älter als \" + name_person1)\n",
        "elif _:\n",
        "  print(name_person1 + \" ist älter als \" + name_person2)\n",
        "else:\n",
        "  print(name_person1 + \" und \" + name_person2 + \" sind gleich alt!\")"
      ]
    },
    {
      "cell_type": "markdown",
      "metadata": {
        "id": "WxZMDrWVqQOm"
      },
      "source": [
        "Sehr schön! Jetzt wollen wir noch ein bisschen Farbe ins Spiel bringen. 🎨\n",
        "\n",
        " <font color='orange'>***Aufgabe h)***<br>  Schreibe ein Programm, das eine Eingabe-Farbe mit Blau mischt, indem du wieder die richtigen Bedingungen einsetzt.</font>"
      ]
    },
    {
      "cell_type": "code",
      "execution_count": null,
      "metadata": {
        "id": "f35A0UI0VjdB"
      },
      "outputs": [],
      "source": [
        "mischfarbe = input('Welche Farbe willst du mit Blau mischen?')\n",
        "\n",
        "# Welche Farbe gemischt mit Blau ergibt Grün?\n",
        "if _:\n",
        "  print(\"Grün\")\n",
        "# Welche Farbe gemischt mit Blau ergibt Violett?\n",
        "elif _:\n",
        "  print(\"Violett\")\n",
        "# alle anderen Farben\n",
        "else:\n",
        "  print(\"Keine bekannte Farbmischung\")"
      ]
    },
    {
      "attachments": {},
      "cell_type": "markdown",
      "metadata": {
        "id": "7nxho0toP6aV"
      },
      "source": [
        "Fantastisch 🥳\n"
      ]
    }
  ],
  "metadata": {
    "colab": {
      "provenance": [],
      "toc_visible": true
    },
    "kernelspec": {
      "display_name": "Python 3",
      "language": "python",
      "name": "python3"
    },
    "language_info": {
      "codemirror_mode": {
        "name": "ipython",
        "version": 3
      },
      "file_extension": ".py",
      "mimetype": "text/x-python",
      "name": "python",
      "nbconvert_exporter": "python",
      "pygments_lexer": "ipython3",
      "version": "3.8.3"
    }
  },
  "nbformat": 4,
  "nbformat_minor": 0
}
