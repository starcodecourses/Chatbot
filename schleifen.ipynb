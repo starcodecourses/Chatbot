{
  "nbformat": 4,
  "nbformat_minor": 0,
  "metadata": {
    "colab": {
      "provenance": []
    },
    "kernelspec": {
      "name": "python3",
      "display_name": "Python 3"
    },
    "language_info": {
      "name": "python"
    }
  },
  "cells": [
    {
      "cell_type": "markdown",
      "source": [
        "# <font color=#68A2FB>Schleifen</font>\n",
        "\n",
        "\n"
      ],
      "metadata": {
        "id": "1J5ibtxwKcWn"
      }
    },
    {
      "cell_type": "markdown",
      "source": [
        "Nach so viel Lernmaterial wird man schon ein bisschen erschöpft und will nicht umbedingt so viel schreiben. Perfekt wärs, wenn es irgendwas gäbe, was den Code wiederholen könnte. Zum Glück gibt es dafür Schleifen!"
      ],
      "metadata": {
        "id": "6cZQM_KpL1Bk"
      }
    },
    {
      "cell_type": "markdown",
      "source": [
        "Eine Schleife wiederholt einen Teil eures Programms so oft, wie ihr wollt. Wir betrachten hier vor allem `for`-Schleifen. Eine `for`-Schleife wiederholt einen Programmabschnitt für jedes Element in einer Liste. Betrachte etwa das folgende Programm:"
      ],
      "metadata": {
        "id": "oMA6UWofL1Bw"
      }
    },
    {
      "cell_type": "code",
      "source": [
        "for buchstabe in 'Julia':\n",
        "  print(buchstabe)"
      ],
      "metadata": {
        "id": "joZoKMvfF5s4"
      },
      "execution_count": null,
      "outputs": []
    },
    {
      "cell_type": "markdown",
      "source": [
        "In Worten sagt dieses Programm: Für jeden Buchstaben im Text 'Julia', gib den Buchstaben aus. Und das ist genau, was das Programm tut.\n",
        "\n",
        "Oder nehmen wir folgendes Beispiel:"
      ],
      "metadata": {
        "id": "69xIjPDUGDNC"
      }
    },
    {
      "cell_type": "code",
      "source": [
        "for zahl in [1, 2, 3, 4]:\n",
        "  print(zahl + 1)"
      ],
      "metadata": {
        "id": "C0DQwPVHGWWv"
      },
      "execution_count": null,
      "outputs": []
    },
    {
      "cell_type": "markdown",
      "source": [
        "Dieses Programm sagt: Für jede Zahl  in der Liste `[1, 2, 3, 4]`, gib die Zahl plus 1 aus.\n",
        "\n",
        "Nun deine Aufgabe: Gib das Quadrat aller Zahlen von 1 bis 10 aus."
      ],
      "metadata": {
        "id": "FC0gL8GdGasQ"
      }
    },
    {
      "cell_type": "code",
      "source": [],
      "metadata": {
        "id": "4ZoEwGz9GaH4"
      },
      "execution_count": null,
      "outputs": []
    },
    {
      "cell_type": "markdown",
      "source": [
        "Listen von Zahlen von Hand zu schreiben ist aber auch lästig. Python bietet uns hier eine Abkürzung an, nämlich die `range`-Funktion. Die erzeugt uns eine Liste von Zahlen. `range(10)` erzeugt alle Zahlen von 0 bis 9, `range(2, 7)` alle Zahlen von 2 bis 6, und `range(2, 11, 2)` die Zahlen 2, 4, 6, 8, 10.\n",
        "\n",
        "Gib nun noch mal das Quadrat aller Zahlen von 1 bis 10 aus, aber benutze den `range`-Befehl als Hilfe."
      ],
      "metadata": {
        "id": "EqDe12-_HB_A"
      }
    },
    {
      "cell_type": "code",
      "source": [],
      "metadata": {
        "colab": {
          "base_uri": "https://localhost:8080/"
        },
        "id": "8tI5DDiDHBaR",
        "outputId": "d184ec25-a462-41ae-cf26-dca99e9c2605"
      },
      "execution_count": null,
      "outputs": [
        {
          "output_type": "stream",
          "name": "stdout",
          "text": [
            "1\n",
            "4\n",
            "9\n",
            "16\n",
            "25\n",
            "36\n",
            "49\n",
            "64\n",
            "81\n",
            "100\n"
          ]
        }
      ]
    },
    {
      "cell_type": "markdown",
      "source": [
        "Aber nur mit Zahlen zu hantieren ist ja auch langweilig. Wir haben eine Liste mit Kuchen vorbereitet. Schreibe ein Programm, das diese Liste wie folgt auflistet:\n",
        "\n",
        "Kuchen no. 1 ist: Bananenkuchen.  \n",
        "Kuchen no. 2 ist: Apfelkuchen.  \n",
        "Kuchen no. 3 ist: Pfirsichkuchen.  \n",
        "Kuchen no. 4 ist: Schokokuchen.\n",
        "\n",
        "\n",
        "💡 Tip: Benutze den `range` Befehl und erzeuge damit die Zahlen 1 bis zur Länge der Kuchenliste. Die Länge einer Liste kannst du über `len(kuchen_liste)` erfahren. Den Kuchen an Stelle `i` in der Liste kannst du dann über `kuchen_liste[i]` erfahren."
      ],
      "metadata": {
        "id": "xx-kAMYWHtYs"
      }
    },
    {
      "cell_type": "code",
      "source": [
        "kuchen_liste = [\"Bananenkuchen\", \"Apfelkuchen\", \"Pfirsichkuchen\", \"Zitronenkuchen\", \"Schokokuchen\"]\n",
        "\n",
        "for _ in _:\n",
        "  print('Kuchen no. ' + str(i+1) + ' ist: ' + kuchen_liste[i])"
      ],
      "metadata": {
        "colab": {
          "base_uri": "https://localhost:8080/"
        },
        "id": "SN3tVxfNHs5-",
        "outputId": "871f4a8a-e995-43bb-a1d8-3fa4089f0ed3"
      },
      "execution_count": null,
      "outputs": [
        {
          "output_type": "stream",
          "name": "stdout",
          "text": [
            "Magst du Bananenkuchen?ja\n",
            "Alles klar, dann bringe ich dir ein Stück Bananenkuchen\n",
            "Magst du Apfelkuchen?ja\n",
            "Alles klar, dann bringe ich dir ein Stück Apfelkuchen\n",
            "Magst du Pfirsichkuchen?nein\n",
            "Auch gut, dann bleibt mehr Pfirsichkuchen für mich\n",
            "Magst du Zitronenkuchen?nein\n",
            "Auch gut, dann bleibt mehr Zitronenkuchen für mich\n",
            "Magst du Schokokuchen?ja\n",
            "Alles klar, dann bringe ich dir ein Stück Schokokuchen\n"
          ]
        }
      ]
    },
    {
      "cell_type": "markdown",
      "source": [
        "Schreibe schließlich ein Programm, das für jeden Kuchen mit einem `input`-Befehl abfragt, ob man den Kuchen mag oder nicht. Alle Kuchen, bei denen 'ja' gesagt wird, sollen in einer Variable abgespeichert werden. Am Ende soll das Programm ausgeben: `'Alles klar, dann bringe ich dir also '` gefolgt von einer Liste der gespeicherte Variable."
      ],
      "metadata": {
        "id": "Ouz16UH7JDsa"
      }
    },
    {
      "cell_type": "code",
      "source": [
        "kuchen_liste = [\"Bananenkuchen\", \"Apfelkuchen\", \"Pfirsichkuchen\", \"Zitronenkuchen\", \"Schokokuchen\"]\n",
        "\n",
        "ja_liste = ''\n",
        "\n",
        "for _ in _:\n",
        "  antwort = input('Magst du ' + kuchen + '?')\n",
        "print('Alles klar, dann bringe ich dir also ' + ja_liste)"
      ],
      "metadata": {
        "colab": {
          "base_uri": "https://localhost:8080/"
        },
        "id": "y7s-J3AiJDNY",
        "outputId": "5a135dc6-bd3e-4a1d-8239-5717c9b43e4f"
      },
      "execution_count": null,
      "outputs": [
        {
          "output_type": "stream",
          "name": "stdout",
          "text": [
            "Magst du Bananenkuchen?ja\n",
            "Magst du Apfelkuchen?ja\n",
            "Magst du Pfirsichkuchen?nein\n",
            "Magst du Zitronenkuchen?nein\n",
            "Magst du Schokokuchen?ja\n",
            "Alles klar, dann bringe ich dir also Bananenkuchen, Apfelkuchen, Schokokuchen, \n"
          ]
        }
      ]
    },
    {
      "cell_type": "markdown",
      "source": [
        "Bonusaufgabe: Wenn bei keinem Kuchen 'ja' geantwortet wird, gib am Ende 'Du bist aber wählerisch!' aus."
      ],
      "metadata": {
        "id": "hyyxcc-bLiaK"
      }
    }
  ]
}