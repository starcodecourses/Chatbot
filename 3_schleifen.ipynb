{
  "cells": [
    {
      "cell_type": "markdown",
      "metadata": {
        "id": "1J5ibtxwKcWn"
      },
      "source": [
        "# Schleifen 🎀\n",
        "\n",
        "Nach so viel Lernmaterial wird man schon ein bisschen erschöpft und will nicht unbedingt so viel schreiben. Perfekt wärs, wenn es irgendwas gäbe, was den Code wiederholen könnte. Zum Glück gibt es dafür Schleifen!\n",
        "\n",
        "\n",
        "Eine Schleife wiederholt einen Teil eures Programms so oft, wie ihr wollt. Es gibt zwei Arten von Schleifen: Die `for`-Schleife und die `while`-Schleife. Vorher schauen wir uns aber schnell noch Listen an, da sie wichtig sind, um `for`-Schleifen zu verstehen.\n",
        "\n"
      ]
    },
    {
      "cell_type": "markdown",
      "source": [
        "## Listen 📋\n",
        "\n",
        "Eine Liste in Python besteht aus mehreren Elementen, z.B. Texten oder Zahlen, die jeweils durch ein Komma getrennt sind. Listen können beispielsweise so aussehen:"
      ],
      "metadata": {
        "id": "eSHE3shWiHjK"
      }
    },
    {
      "cell_type": "code",
      "source": [
        "liste = [\"hallo\", 4, 0.2]\n",
        "zahlen = [2, 9.1, 5.72, -1]\n",
        "tiere = [\"Hund\", \"Schmetterling\", \"Ziege\", \"Schildkröte\", \"Robbe\"]\n",
        "leere_liste = []"
      ],
      "metadata": {
        "id": "gRAyB_xejBnV"
      },
      "execution_count": 2,
      "outputs": []
    },
    {
      "cell_type": "markdown",
      "source": [
        "Man kann mehrere Listen zusammenfügen, einzelne Elemente abfragen oder die Länge der Liste, d.h. die Anzahl ihrer Elemente, ausgeben lassen."
      ],
      "metadata": {
        "id": "buMg4-zPjtoY"
      }
    },
    {
      "cell_type": "code",
      "source": [
        "# Länge einer Liste\n",
        "len(liste)"
      ],
      "metadata": {
        "id": "NSsvXAOlkFMW"
      },
      "execution_count": null,
      "outputs": []
    },
    {
      "cell_type": "code",
      "source": [
        "# Listen zusammenführen\n",
        "\n",
        "liste + zahlen"
      ],
      "metadata": {
        "id": "snw6zSY2klY5"
      },
      "execution_count": null,
      "outputs": []
    },
    {
      "cell_type": "markdown",
      "source": [
        "Bei der Abfrage eines Elements der Liste an einer beliebigen Stelle müssen wir etwas aufpassen, da der Computer immer bei 0 anfängt zu zählen statt bei 1. Das sieht dann so aus:"
      ],
      "metadata": {
        "id": "9awgLch7kqsW"
      }
    },
    {
      "cell_type": "code",
      "source": [
        "# 1. Element der Liste \"zahlen\"\n",
        "zahlen[0] # wir fangen immer bei 0 an zu zählen"
      ],
      "metadata": {
        "id": "-0N8HY73kIYp"
      },
      "execution_count": null,
      "outputs": []
    },
    {
      "cell_type": "code",
      "source": [
        "# 2. Element der Liste \"zahlen\"\n",
        "zahlen[1]"
      ],
      "metadata": {
        "id": "x_FHdYa9lITQ"
      },
      "execution_count": null,
      "outputs": []
    },
    {
      "cell_type": "code",
      "source": [
        "# 3. Element der Liste \"zahlen\"\n",
        "zahlen[2]"
      ],
      "metadata": {
        "id": "YPJR20RikZSb"
      },
      "execution_count": null,
      "outputs": []
    },
    {
      "cell_type": "markdown",
      "source": [
        "Längere Strings können übrigens auch als Liste einzelner Buchstaben betrachtet werden: Man kann sie genauso zusammenfügen und einzelne Elemente oder ihre Länge abfragen!"
      ],
      "metadata": {
        "id": "2YI4EfE5jCRz"
      }
    },
    {
      "cell_type": "markdown",
      "source": [
        " <font color='orange'>***Aufgabe a)*** <br>\n",
        "Frage das 3. Element sowie die Länge der Liste `tiere` ab und führe sie mit der Liste `liste` zusammen!\n",
        "\n",
        "\n",
        "</font>"
      ],
      "metadata": {
        "id": "L6v0iKJ-lZVY"
      }
    },
    {
      "cell_type": "code",
      "source": [
        "# Dein Code hier"
      ],
      "metadata": {
        "id": "_lSLZVlMl5VU"
      },
      "execution_count": null,
      "outputs": []
    },
    {
      "cell_type": "markdown",
      "source": [
        "## `For`-Schleifen ➰\n",
        "\n",
        "Wir betrachten jetzt `for`-Schleifen. Eine `for`-Schleife wiederholt einen Programmabschnitt für jedes Element in einer Liste. Schau dir einmal folgendes Programm an:"
      ],
      "metadata": {
        "id": "Jp6qlu6KzxFY"
      }
    },
    {
      "cell_type": "code",
      "execution_count": null,
      "metadata": {
        "id": "joZoKMvfF5s4"
      },
      "outputs": [],
      "source": [
        "for buchstabe in 'Julia':\n",
        "  print(buchstabe)"
      ]
    },
    {
      "cell_type": "markdown",
      "metadata": {
        "id": "69xIjPDUGDNC"
      },
      "source": [
        "In Worten sagt dieses Programm: Für jeden Buchstaben im Text `'Julia'`, gib den Buchstaben aus. Und das ist genau, was das Programm tut.\n",
        "\n",
        "Oder nehmen wir folgendes Beispiel:"
      ]
    },
    {
      "cell_type": "code",
      "execution_count": null,
      "metadata": {
        "id": "C0DQwPVHGWWv"
      },
      "outputs": [],
      "source": [
        "for zahl in [1, 2, 3, 4]:\n",
        "  print(zahl + 1)"
      ]
    },
    {
      "cell_type": "markdown",
      "metadata": {
        "id": "FC0gL8GdGasQ"
      },
      "source": [
        "Dieses Programm sagt: Für jede Zahl  in der Liste `[1, 2, 3, 4]`, gib die Zahl plus 1 aus.\n",
        "\n",
        "Wichtig ist, dass hinter der Liste, die durchgegangen wird ein Doppelpunkt steht und der folgende Code eingerückt ist.\n",
        "\n",
        "\n",
        "\n",
        "\n"
      ]
    },
    {
      "cell_type": "markdown",
      "source": [
        "\n",
        " <font color='orange'>***Aufgabe b)*** <br>\n",
        " Gib das Quadrat aller Zahlen von 1 bis 10 aus.\n",
        "\n",
        " *Reminder: Das Quadrat einer Zahl ist die Zahl multipliziert mit sich selbst.*\n",
        "</font>"
      ],
      "metadata": {
        "id": "ezNOC-cd2wpK"
      }
    },
    {
      "cell_type": "code",
      "execution_count": null,
      "metadata": {
        "id": "4ZoEwGz9GaH4"
      },
      "outputs": [],
      "source": [
        "# Dein Code hier"
      ]
    },
    {
      "cell_type": "markdown",
      "metadata": {
        "id": "EqDe12-_HB_A"
      },
      "source": [
        "Listen von Zahlen von Hand zu schreiben ist aber auch lästig. Python bietet uns hier eine Abkürzung an, nämlich die `range`-Funktion. Die erzeugt uns eine Liste von Zahlen. `range(10)` erzeugt alle Zahlen von 0 bis 9, `range(2, 7)` alle Zahlen von 2 bis 6, und `range(2, 11, 2)` die Zahlen 2, 4, 6, 8, 10.\n",
        "\n",
        "\n",
        "\n",
        " <font color='orange'>***Aufgabe c)*** <br>\n",
        "Gib nun noch mal das Quadrat aller Zahlen von 1 bis 10 aus, aber benutze den `range`-Befehl als Hilfe.\n",
        "</font>"
      ]
    },
    {
      "cell_type": "code",
      "execution_count": null,
      "metadata": {
        "id": "C2f66HmkCA3H"
      },
      "outputs": [],
      "source": [
        "# Dein Code hier"
      ]
    },
    {
      "cell_type": "markdown",
      "source": [
        " <font color='orange'>***Aufgabe d)*** <br>\n",
        "Gib das Quadrat aller *gerader* Zahlen von 10 bis 20 aus und benutze dabei wieder den `range`-Befehl.\n",
        "</font>"
      ],
      "metadata": {
        "id": "z9rz2nn04sdJ"
      }
    },
    {
      "cell_type": "code",
      "source": [
        "# Dein Code hier"
      ],
      "metadata": {
        "id": "II7SqVAT4psI"
      },
      "execution_count": null,
      "outputs": []
    },
    {
      "cell_type": "markdown",
      "metadata": {
        "id": "xx-kAMYWHtYs"
      },
      "source": [
        "Aber nur mit Zahlen zu hantieren ist ja auch langweilig. Wir haben eine Liste mit Kuchen vorbereitet.\n",
        "\n",
        " <font color='orange'>***Aufgabe e)*** <br>\n",
        "Schreibe ein Programm, das diese Liste wie folgt auflistet:<br>\n",
        "Kuchen no. 1 ist: Bananenkuchen.  \n",
        "Kuchen no. 2 ist: Apfelkuchen.  \n",
        "Kuchen no. 3 ist: Pfirsichkuchen.  \n",
        "Kuchen no. 4 ist: Schokokuchen.\n",
        "\n",
        "*Tipp: Benutze den `range` Befehl und erzeuge damit die Zahlen 1 bis zur Länge der Kuchenliste. Den Kuchen an Stelle `i` in der Liste erfährst du dann über `kuchen_liste[i]` erfahren. Eine Zahl aus der Liste, die du mit dem `range` Befehl erstellt hast, kannst du über den Befehl `str(i)`  in einen Text umwandeln.*\n",
        "</font>\n",
        "\n",
        "\n",
        "\n",
        "\n"
      ]
    },
    {
      "cell_type": "code",
      "execution_count": null,
      "metadata": {
        "id": "ZQ7mU3QACA3J"
      },
      "outputs": [],
      "source": [
        "kuchen_liste = [\"Bananenkuchen\", \"Apfelkuchen\", \"Pfirsichkuchen\", \"Zitronenkuchen\", \"Schokokuchen\"]\n",
        "\n",
        "# Dein Code hier"
      ]
    },
    {
      "cell_type": "markdown",
      "metadata": {
        "id": "Ouz16UH7JDsa"
      },
      "source": [
        " <font color='orange'>***Aufgabe f)*** <br>\n",
        "Schreibe schließlich ein Programm, das für jeden Kuchen mit einem `input`-Befehl abfragt, ob man den Kuchen mag oder nicht. Alle Kuchen, bei denen 'ja' gesagt wird, sollen in einer Liste (`ja_liste`) abgespeichert werden. Am Ende soll das Programm ausgeben: `'Alles klar, dann bringe ich dir also'` gefolgt von einer Liste der gespeicherte Variable.<br><br>\n",
        "*Bonusaufgabe: Wenn bei keinem Kuchen `'ja'` geantwortet wird, gib am Ende `'Du bist aber wählerisch!'` aus.*\n",
        "</font>\n",
        "\n"
      ]
    },
    {
      "cell_type": "code",
      "execution_count": null,
      "metadata": {
        "id": "y7s-J3AiJDNY"
      },
      "outputs": [],
      "source": [
        "kuchen_liste = [\"Bananenkuchen\", \"Apfelkuchen\", \"Pfirsichkuchen\", \"Zitronenkuchen\", \"Schokokuchen\"]\n",
        "\n",
        "ja_liste = \"\"\n",
        "\n",
        "# Dein Code hier"
      ]
    },
    {
      "cell_type": "markdown",
      "source": [
        "## While Schleifen ➿\n",
        "\n",
        "Bei `for`-Schleifen waren die Anzahl der Durchläufe immer schon von Anfang an festgelegt durch die Länge der Liste, die durchgegangen wird. `While`-Schleifen laufen solange eine Bedingung erfüllt ist weiter. Betrachte zum Beispiel folgendes Beispiel:\n",
        "\n"
      ],
      "metadata": {
        "id": "plz3ccvpz4ug"
      }
    },
    {
      "cell_type": "code",
      "source": [
        "zähler = 1\n",
        "\n",
        "while zähler < 5:\n",
        "  print(\"Durchlauf \" + str(zähler))\n",
        "  zähler = zähler + 1 # erhöhe den Zähler um 1"
      ],
      "metadata": {
        "id": "duB3Z8HUz4Ex"
      },
      "execution_count": null,
      "outputs": []
    },
    {
      "cell_type": "markdown",
      "source": [
        "Das Programm startet mit einem Zähler, dem der Wert 1 zugeordnet ist. In jedem Durchlauf wird der Wert des Zählers um 1 erhöht. Nach 4 Runden hat der Zähler den Wert 5 angenommen und die Bedingung `zähler < 5` ist nicht mehr erfüllt. Dann wird die Schleife abgebrochen."
      ],
      "metadata": {
        "id": "agDbVFE0xvw_"
      }
    },
    {
      "cell_type": "markdown",
      "source": [
        " <font color='orange'>***Aufgabe g)*** <br>\n",
        " Schreibe das Programm aus Aufgabe b) mithilfe einer `while`-Schleife.\n",
        "</font>"
      ],
      "metadata": {
        "id": "KyhJv9skxTo6"
      }
    },
    {
      "cell_type": "code",
      "source": [
        "# Dein Code hier"
      ],
      "metadata": {
        "id": "H_qg4maswZYf"
      },
      "execution_count": null,
      "outputs": []
    },
    {
      "cell_type": "markdown",
      "source": [
        "Bei `while`-Schleifen muss man darauf achten, dass die Bedingung irgendwann nicht mehr erfüllt ist und die Schleife abbricht. Sonst haben wir eine Endlos-Schleife!"
      ],
      "metadata": {
        "id": "eD16DnVu1E-e"
      }
    },
    {
      "cell_type": "markdown",
      "source": [
        " <font color='orange'>***Aufgabe g)*** <br>\n",
        " Schreibe ein Chatbot, der fragt, welchen Kuchen man mag. Wenn der eingebene Kuchen sich in der Kuchenliste befindet, soll das Programm abbrechen und ausgeben: `'Ich esse auch gerne'` + den Namen des eingebenen Kuchens. Wenn der eingebene Kuchen nicht in der Liste ist, soll ausgegeben werden `'Ich mag keinen'` + den Namen des eingegeben Kuchens.\n",
        "\n",
        "</font>"
      ],
      "metadata": {
        "id": "Eaq8gnDD10Yn"
      }
    },
    {
      "cell_type": "code",
      "source": [
        "kuchen_liste = [\"Bananenkuchen\", \"Apfelkuchen\", \"Pfirsichkuchen\", \"Zitronenkuchen\", \"Schokokuchen\"]\n",
        "\n",
        "# Dein Code hier"
      ],
      "metadata": {
        "id": "uRxMEo493vQw"
      },
      "execution_count": null,
      "outputs": []
    }
  ],
  "metadata": {
    "colab": {
      "provenance": [],
      "toc_visible": true
    },
    "kernelspec": {
      "display_name": "Python 3",
      "language": "python",
      "name": "python3"
    },
    "language_info": {
      "codemirror_mode": {
        "name": "ipython",
        "version": 3
      },
      "file_extension": ".py",
      "mimetype": "text/x-python",
      "name": "python",
      "nbconvert_exporter": "python",
      "pygments_lexer": "ipython3",
      "version": "3.8.3"
    }
  },
  "nbformat": 4,
  "nbformat_minor": 0
}