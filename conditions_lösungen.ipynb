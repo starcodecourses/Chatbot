{
  "nbformat": 4,
  "nbformat_minor": 0,
  "metadata": {
    "colab": {
      "provenance": []
    },
    "kernelspec": {
      "name": "python3",
      "display_name": "Python 3"
    },
    "language_info": {
      "name": "python"
    }
  },
  "cells": [
    {
      "cell_type": "markdown",
      "source": [
        "# <font color=#68A2FB>Bedingungen</font>\n",
        "\n",
        "Nach dem wir gelernt haben mit Texten umzugehen, ist es Zeit mit der Information, die man bekommt, was anzufangen! 🎉\n",
        "\n",
        "Ein wichtiger Aspekt beim Chatbot ist es, durch Bedingungen verschiedene Entscheidungen zu treffen."
      ],
      "metadata": {
        "id": "Y6SbIbsX3zJn"
      }
    },
    {
      "cell_type": "markdown",
      "source": [
        "Wir greifen ein Codeauschnitt der Textübungen auf. Jetzt wollen wir nicht nur den Namen des Geburtstagskind wissen, sondern auch, wie alt es ist. Dafür fügen wir eine neue Variable --alter-- hinzu!"
      ],
      "metadata": {
        "id": "-jaWdAa35eBl"
      }
    },
    {
      "cell_type": "code",
      "source": [
        "name = input(\"Wie heißt das Geburtstagskind?\")\n",
        "alter = input(\"Wie alt ist das Geburtstagskind?\")\n"
      ],
      "metadata": {
        "id": "vCVfIilK4Rgn",
        "colab": {
          "base_uri": "https://localhost:8080/"
        },
        "outputId": "60853676-5aff-4688-955a-57b9059dddc3"
      },
      "execution_count": null,
      "outputs": [
        {
          "name": "stdout",
          "output_type": "stream",
          "text": [
            "Wie heißt das Geburtstagskind?12\n",
            "Wie alt ist das Geburtstagskind?12\n"
          ]
        }
      ]
    },
    {
      "cell_type": "markdown",
      "source": [
        "Wir haben bisher nur mit Texten gearbeitet. Die Frage ist, wie kann man das Alter des Geburtstagskind in eine Zahl verwandeln?\n",
        "\n",
        "Das geht sehr einfach! <font color=#EA5C19>\"**int**\"</font>, kurz für integer, bedeutet auf Englisch ganze Zahl."
      ],
      "metadata": {
        "id": "XkY4_vAPH7ed"
      }
    },
    {
      "cell_type": "code",
      "source": [
        "alter = int(alter)\n",
        "print(alter)"
      ],
      "metadata": {
        "id": "a5fBcRyuIo7i",
        "colab": {
          "base_uri": "https://localhost:8080/"
        },
        "outputId": "b4159cff-95b9-4863-be8d-ba2212a2d404"
      },
      "execution_count": null,
      "outputs": [
        {
          "output_type": "stream",
          "name": "stdout",
          "text": [
            "12\n"
          ]
        }
      ]
    },
    {
      "cell_type": "markdown",
      "source": [
        "Wir wollen jetzt wissen, ob das Geburtstagskind ein Kind ist (Alter 0-12 Jahre) 👧🏽. Um das herauszufinden brauchen wir die Einführung der Bedingung des Alters. Das schafft man durch <font color=#EA5C19>\"if-else\"</font>.\n",
        "\n",
        "\n",
        "if (Bedingung ist erfüllt):\n",
        "\n",
        "*  dieser Code wird ausgeführt\n",
        "\n",
        "else:\n",
        "\n",
        "*  dieser Code wird ausgeführt\n",
        "\n",
        "\n",
        "\n",
        "Das heißt, ist die Bedingung erfüllt, wird unser Chatbot den Code des if-statements ausführt und ansonstens den anderen (else)."
      ],
      "metadata": {
        "id": "T8GYR4QP6Tmn"
      }
    },
    {
      "cell_type": "code",
      "source": [
        "if alter < 13: #warum 13? weil alter kleiner als 13 sein muss um ein Kind zu sein!\n",
        "  print(\"Das Geburtstagskind ist ein Kind!\")\n",
        "else:\n",
        "  print(\"Das Geburtstagskind ist kein Kind!\")"
      ],
      "metadata": {
        "id": "_v5ysp8l8OWC",
        "colab": {
          "base_uri": "https://localhost:8080/"
        },
        "outputId": "011ccc83-eda7-45ad-d346-39c8b3192815"
      },
      "execution_count": null,
      "outputs": [
        {
          "output_type": "stream",
          "name": "stdout",
          "text": [
            "Das Geburtstagskind ist ein Kind!\n"
          ]
        }
      ]
    },
    {
      "cell_type": "markdown",
      "source": [
        "‼️Kleiner Hinweis: probiert, das else-statement wegzulassen. Was könnt ihr erkennen?"
      ],
      "metadata": {
        "id": "EpFewJHM-HDL"
      }
    },
    {
      "cell_type": "code",
      "source": [
        "if alter < 13:\n",
        "  print(\"Das Geburtstagskind ist ein Kind!\")"
      ],
      "metadata": {
        "id": "Os13YSG3-ulR",
        "colab": {
          "base_uri": "https://localhost:8080/"
        },
        "outputId": "1276e8cd-caf8-43bc-a75c-50bf958be253"
      },
      "execution_count": null,
      "outputs": [
        {
          "output_type": "stream",
          "name": "stdout",
          "text": [
            "Das Geburtstagskind ist ein Kind!\n"
          ]
        }
      ]
    },
    {
      "cell_type": "markdown",
      "source": [
        "Genau! Das else-statement ist optional! Unser Code läuft auch wenn es kein else-statement gibt."
      ],
      "metadata": {
        "id": "NWgP-Czl-zQT"
      }
    },
    {
      "cell_type": "markdown",
      "source": [
        "Es gibt nicht nur if-else, sondern auch elif. <font color=#EA5C19>\"elif\"</font> ist eine Kombination aus \"else-if\". Das heißt: Wenn die Bedingung im if-statement nicht erfüllt wurde, schaut das Programm nach, ob die Bedingung im elif-statement erfüllt wird und wenn die nicht erfüllt wird schaut es im else-statement nach, falls eins vorhanden ist.\n",
        "\n",
        "if (Bedingung ist erfüllt):\n",
        "\n",
        "* dieser Code wird ausgeführt\n",
        "\n",
        "elif (Bedingung ist erfüllt):\n",
        "\n",
        "* dieser Code wird ausgeführt\n",
        "\n",
        "else:\n",
        "\n",
        "* dieser Code wird ausgeführt\n",
        "\n",
        "\n",
        "---\n",
        "\n",
        "\n",
        "\n",
        "Schreibe einen Programm, dass widergibt, ob das Geburtstagskind ein Kind (0-12 Jahre) 👧🏽, Jugendlicher (13-19 Jahre) 👩🏻‍🦰 oder Erwachsener (ab 20 Jahre)  👩🏾‍🦳 ist.\n",
        "\n",
        "\n",
        "Als Tip: für Jugendliche könnt ihr zwei Bedingungen verwenden, die mit einem und --and-- verbunden sind. D.h. \"alter > 12 and alter < 20\""
      ],
      "metadata": {
        "id": "98U0Er6B_b67"
      }
    },
    {
      "cell_type": "code",
      "source": [
        "if alter < 13:\n",
        "  print(\"Das Geburtstagskind ist ein Kind!\")\n",
        "elif alter > 12 and alter < 20:\n",
        "  print(\"Das Geburtstagskind ist ein Jugendlicher\")\n",
        "else:\n",
        "  print(\"Das Geburtstagskind ist ein Erwachsener\")"
      ],
      "metadata": {
        "id": "Qy9YPJJqA9a7",
        "colab": {
          "base_uri": "https://localhost:8080/"
        },
        "outputId": "9319236c-da3c-4923-ba4d-b9304d05808f"
      },
      "execution_count": null,
      "outputs": [
        {
          "output_type": "stream",
          "name": "stdout",
          "text": [
            "Das Geburtstagskind ist ein Kind!\n"
          ]
        }
      ]
    },
    {
      "cell_type": "markdown",
      "source": [
        "Nun wollen wir den Namen und Alter von einer weiteren Person wissen. Schreibt ein Programm, dass den Namen und Alter zwei Geburtstagskinder abfragt."
      ],
      "metadata": {
        "id": "fxiuCSqJClIH"
      }
    },
    {
      "cell_type": "code",
      "source": [
        "name_person1 = input('Wie heißt das erste Geburtstagskind?')\n",
        "alter_person1 = input(\"Wie alt ist das erste Geburtstagskind?\")\n",
        "\n",
        "name_person2 = input('Wie heißt das zweite Geburtstagskind?')\n",
        "alter_person2 = input(\"Wie alt ist das zweite Geburtstagskind?\")\n",
        "\n",
        "alter_person1 = int(alter_person1)\n",
        "alter_person2 = int(alter_person2)\n"
      ],
      "metadata": {
        "id": "CCC5GfR_Fms6"
      },
      "execution_count": null,
      "outputs": []
    },
    {
      "cell_type": "markdown",
      "source": [
        "Jetzt wollen wir wissen, welches Geburtstagskind das ältere ist, oder ob sie gleich alt sind!\n",
        "\n",
        "Schreibe ein Programm, dass dies herausfindet!"
      ],
      "metadata": {
        "id": "P8_I5FOfF4Zb"
      }
    },
    {
      "cell_type": "code",
      "source": [
        "name_person1 = input('Wie heißt das erste Geburtstagskind?')\n",
        "alter_person1 = input(\"Wie alt ist das erste Geburtstagskind?\")\n",
        "name_person2 = input('Wie heißt das zweite Geburtstagskind?')\n",
        "alter_person2 = input(\"Wie alt ist das zweite Geburtstagskind?\")\n",
        "\n",
        "alter_person1 = int(alter_person1)\n",
        "alter_person2 = int(alter_person2)\n",
        "\n",
        "if alter_person1 < alter_person2:\n",
        "  print(name_person2 + \" ist älter als \" + name_person1)\n",
        "elif alter_person2 < alter_person1:\n",
        "  print(name_person1 + \" ist älter als \" + name_person2)\n",
        "else:\n",
        "  print(name_person1 + \" und \" + name_person2 + \" sind gleich alt!\")"
      ],
      "metadata": {
        "id": "TITcl5wOGM5k"
      },
      "execution_count": null,
      "outputs": []
    },
    {
      "cell_type": "markdown",
      "source": [
        "Zu guter Letzt wollen wir noch ein bisschen Farbe ins Spiel bringen. Das Ziel ist ein Programm, das eine Eingabe-Farbe mit blau mischt. Ersetze alle Sternchen durch passenden Quellcode."
      ],
      "metadata": {
        "id": "DXAuoMET710i"
      }
    },
    {
      "cell_type": "code",
      "source": [
        "def grün():\n",
        "    print(\"\\033[1;32;32m Grün  \\n\")\n",
        "def violett():\n",
        "     print(\"\\033[1;35;35m Violett  \\n\")\n",
        "def fehler():\n",
        "     print(\"\\033[1;37;40m Keine bekannte Farbmischung  \\n\")\n",
        "\n",
        "\n",
        "color = input('Welche Farbe willst du mit blau mischen?')\n",
        "\n",
        "if color == 'gelb':\n",
        "  grün()\n",
        "elif color == 'rot':\n",
        "  violett()\n",
        "else: fehler()\n",
        "\n"
      ],
      "metadata": {
        "id": "7a1RgwSA74Gs"
      },
      "execution_count": null,
      "outputs": []
    }
  ]
}
