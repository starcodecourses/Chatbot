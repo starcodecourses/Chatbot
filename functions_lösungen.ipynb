{
  "nbformat": 4,
  "nbformat_minor": 0,
  "metadata": {
    "colab": {
      "provenance": [],
      "toc_visible": true
    },
    "kernelspec": {
      "name": "python3",
      "display_name": "Python 3"
    },
    "language_info": {
      "name": "python"
    }
  },
  "cells": [
    {
      "cell_type": "markdown",
      "source": [
        "#Funktionen ⚙️\n",
        "\n",
        "Falls ihr es noch nicht gemerkt habt, sind Informatiker:innen recht faul und wollen so wenig Arbeit wie möglich machen. Deswegen würden sie sich beklagen, wenn sie 30 Male für jedes Beispiel \"Happy Birthday\" coden müssen."
      ],
      "metadata": {
        "id": "QL9335kPjzHP"
      }
    },
    {
      "cell_type": "markdown",
      "source": [
        "Dafür gibt es Funktionen. Funktionen erlauben dir deinen Code wiederzuverwenden und gleichzeitig alles übersichtlicher zu machen.\n",
        "\n",
        "\n",
        "\n",
        "\n",
        "Man definiert eine Funktion mit dem Schlüsselwort <font color=#EA5C19>\"**def**\"</font>. Dahinter folgt der Name der Funktion (wir können eine Funktion beliebig benennen - wie eine Variablen). Direkt hinter dem Namen folgen dann zwei Klammern `()` sowie ein Doppelpunkt. Die Struktur sieht so aus:\n",
        "```\n",
        "def name_der_funktion():\n",
        "  *Code*\n",
        "```\n",
        "Die Funktion rufen wir auf, indem wir nur den Namen der Funktion inklusive der Klammern ausführen:\n",
        "\n",
        "\n",
        "```\n",
        "name_der_funktion()\n",
        "```\n",
        "\n",
        "\n"
      ],
      "metadata": {
        "id": "_C3nBtL9lW8y"
      }
    },
    {
      "cell_type": "markdown",
      "source": [
        "\n",
        " <font color='orange'>***Aufgabe a)*** <br>\n",
        "  Führe einmal das folgende Beispiel aus!</font>"
      ],
      "metadata": {
        "id": "PIWFsxgvhr0m"
      }
    },
    {
      "cell_type": "code",
      "source": [
        "def sag_hallo():\n",
        "  print(\"Hallo!\")"
      ],
      "metadata": {
        "id": "Ta5quW97hrjR"
      },
      "execution_count": 1,
      "outputs": []
    },
    {
      "cell_type": "markdown",
      "source": [
        "Jetzt ist noch gar nichts passiert! Die Funktion ist jetzt zwar definiert, aber muss noch aufgerufen werden."
      ],
      "metadata": {
        "id": "feDaDqeaiEV0"
      }
    },
    {
      "cell_type": "code",
      "source": [
        "sag_hallo()"
      ],
      "metadata": {
        "id": "VuY7lFJ0h4fH",
        "colab": {
          "base_uri": "https://localhost:8080/"
        },
        "outputId": "02fa539f-e1ed-4035-9b53-a667782b2d68"
      },
      "execution_count": 2,
      "outputs": [
        {
          "output_type": "stream",
          "name": "stdout",
          "text": [
            "Hallo!\n"
          ]
        }
      ]
    },
    {
      "cell_type": "markdown",
      "source": [
        "Und jetzt du!\n",
        "\n",
        " <font color='orange'>***Aufgabe b)*** <br>\n",
        "  Schreibe den Code des Geburtstagsliedes in eine Funktion rein (ohne Namen) und führe sie aus.</font>\n",
        "\n",
        "Zur Erinnerung, der Text ging so:\n",
        "\n",
        "\n",
        "```\n",
        "Happy birthday to you!\n",
        "Happy birthday to you!\n",
        "Happy birthday, dear Geburtstagskind!\n",
        "Happy birthday to you!\n",
        "```\n",
        "\n",
        "\n"
      ],
      "metadata": {
        "id": "grmhKVkcmPbo"
      }
    },
    {
      "cell_type": "code",
      "source": [
        "# Lösung\n",
        "\n",
        "def geburtstagslied():\n",
        "  print(\"Happy birthday to you!\")\n",
        "  print(\"Happy birthday to you!\")\n",
        "  print(\"Happy birthday, dear Geburtstagskind!\")\n",
        "  print(\"Happy birthday to you!\")\n",
        "\n",
        "geburtstagslied()"
      ],
      "metadata": {
        "id": "p4qXFiVQmbWu",
        "colab": {
          "base_uri": "https://localhost:8080/"
        },
        "outputId": "0454179d-ab8c-4038-e4a3-5c4f43e27d64"
      },
      "execution_count": 4,
      "outputs": [
        {
          "output_type": "stream",
          "name": "stdout",
          "text": [
            "Happy birthday to you!\n",
            "Happy birthday to you!\n",
            "Happy birthday, dear Geburtstagskind!\n",
            "Happy birthday to you!\n"
          ]
        }
      ]
    },
    {
      "cell_type": "markdown",
      "source": [
        "Übrigens: Wir haben bisher bereits einige Funktionen benutzt! Nämlich beispielsweise die Funktionen `print` oder `input`. Diese wurden von anderen Personen geschrieben und wir können sie einfach benutzen, ohne einen langen komplizierten Code schreiben zu müssen. 🤓\n",
        "\n",
        "Sowohl bei der `print` als auch bei der `input`-Funktion waren die Klammern aber nicht leer, sondern wir konnten oder sollten einen *string*, also einen Text in Anführungszeichen, in die Klammer schreiben. Das was man bei Funktionen in die Klammern schreibt, nennt man Parameter. Die Funktion macht dann etwas, was von dem eingegebenen Paramater abhängt. Die Struktur sieht dann so aus:\n",
        "\n"
      ],
      "metadata": {
        "id": "as6vRerbgP8A"
      }
    },
    {
      "cell_type": "markdown",
      "source": [
        "\n",
        "```\n",
        "def name_der_funktion(parameter):\n",
        "  *Code*\n",
        "```\n",
        "Und so rufen wir die Funktion mit Parameter auf:\n",
        "\n",
        "```\n",
        "name_der_funktion(parameter)\n",
        "```"
      ],
      "metadata": {
        "id": "hoy1Udomm6bd"
      }
    },
    {
      "cell_type": "markdown",
      "source": [
        "\n",
        " <font color='orange'>***Aufgabe c)*** <br>\n",
        "  Führe einmal das folgende Beispiel für verschiedene Eingabenamen aus!\n",
        "\n",
        "  *Achtung: Den Namen musst du wieder in Anführungszeichen schreiben.*</font>"
      ],
      "metadata": {
        "id": "aClueJ9wlCds"
      }
    },
    {
      "cell_type": "code",
      "source": [
        "def sag_hallo(name):\n",
        "  print(\"Hallo \" + name + \"!\")"
      ],
      "metadata": {
        "id": "Fkx5PiRpkbPa"
      },
      "execution_count": 6,
      "outputs": []
    },
    {
      "cell_type": "code",
      "source": [
        "# Lösung\n",
        "\n",
        "sag_hallo(\"Frida\")"
      ],
      "metadata": {
        "id": "gi6vCDOzlPyM",
        "colab": {
          "base_uri": "https://localhost:8080/"
        },
        "outputId": "0d74c043-d141-4c3e-b67e-3f427a53b0d3"
      },
      "execution_count": 7,
      "outputs": [
        {
          "output_type": "stream",
          "name": "stdout",
          "text": [
            "Hallo Frida!\n"
          ]
        }
      ]
    },
    {
      "cell_type": "markdown",
      "source": [
        " <font color='orange'>***Aufgabe d)*** <br>\n",
        "  Schreibe eine Funktion mit dem Parameter `name`, die das Geburtstagslied aus Aufgabe b) mit dem eingegebenen Namen ausgibt und rufe sie für verschiedene Eingaben auf."
      ],
      "metadata": {
        "id": "picieiIklm2X"
      }
    },
    {
      "cell_type": "code",
      "source": [
        "# Lösung\n",
        "\n",
        "def geburtstagslied(name):\n",
        "  print(\"Happy birthday to you!\")\n",
        "  print(\"Happy birthday to you!\")\n",
        "  print(\"Happy birthday, dear \" + name + \"!\")\n",
        "  print(\"Happy birthday to you!\")\n",
        "\n",
        "geburtstagslied(\"Frida\")"
      ],
      "metadata": {
        "id": "OaBF3QVtnjGU",
        "colab": {
          "base_uri": "https://localhost:8080/"
        },
        "outputId": "556048c0-2024-466f-8ff0-75e9088316d0"
      },
      "execution_count": 10,
      "outputs": [
        {
          "output_type": "stream",
          "name": "stdout",
          "text": [
            "Happy birthday to you!\n",
            "Happy birthday to you!\n",
            "Happy birthday, dear Frida!\n",
            "Happy birthday to you!\n"
          ]
        }
      ]
    },
    {
      "cell_type": "markdown",
      "source": [
        "Jetzt überführen wir das ganze noch in ein Chatbot-Setting!\n",
        "\n",
        " <font color='orange'>***Aufgabe e)*** <br>\n",
        "  Schreibe den Code für einen Chatbot, der das Geburtstagskind nach dem Namen fragt und daraufhin das Geburstagslied aus Aufgabe d) singt.\n"
      ],
      "metadata": {
        "id": "yQMzNAYOn1ru"
      }
    },
    {
      "cell_type": "code",
      "source": [
        "# Lösung\n",
        "\n",
        "name = input(\"Wie heißt das Geburstagskind?\")\n",
        "geburtstagslied(name)"
      ],
      "metadata": {
        "id": "fxGPWpS2oIkd",
        "colab": {
          "base_uri": "https://localhost:8080/"
        },
        "outputId": "733f6a2b-d8d2-40fa-ef99-75cbb186ea1c"
      },
      "execution_count": 11,
      "outputs": [
        {
          "output_type": "stream",
          "name": "stdout",
          "text": [
            "Wie heißt das Geburstagskind?Frida\n",
            "Happy birthday to you!\n",
            "Happy birthday to you!\n",
            "Happy birthday, dear Frida!\n",
            "Happy birthday to you!\n"
          ]
        }
      ]
    },
    {
      "cell_type": "markdown",
      "source": [
        "Wunderbar! Jetzt bist du mit dem nötigen Werkzeug ausgestattet, um dich an dein eigenes Chatbot-Projekt zu wagen! 🎉"
      ],
      "metadata": {
        "id": "qy6l0xAyoI34"
      }
    },
    {
      "cell_type": "markdown",
      "source": [
        "# Zusatz"
      ],
      "metadata": {
        "id": "8fJEftLHoYsU"
      }
    },
    {
      "cell_type": "markdown",
      "source": [
        "Bisher haben wir nur Funktionen betrachtet, die mit einem <font color=#EA5C19>\"**print**\"</font> statement enden. Es gibt allerdings noch eine universellere Möglichkeit für die Ausgabe der Funktion, nämlich <font color=#EA5C19>\"**return**\"</font>. Betrachte z.B. folgende Funktion, die das Quadrat einer Zahl berechnet:\n"
      ],
      "metadata": {
        "id": "KTI_cdmNpMze"
      }
    },
    {
      "cell_type": "code",
      "source": [
        "def quadrat(zahl):\n",
        "  return zahl*zahl"
      ],
      "metadata": {
        "id": "Lvm4Fla-pLUP"
      },
      "execution_count": null,
      "outputs": []
    },
    {
      "cell_type": "markdown",
      "source": [
        "Der Vorteil davon ist, dass man das Ergebnis einfach in einer Variablen speichern kann und weiter im Code verwenden kann. Zum Beispiel so:"
      ],
      "metadata": {
        "id": "Sl3Qv1zWq4sz"
      }
    },
    {
      "cell_type": "code",
      "source": [
        "ergebnis = quadrat(6)\n",
        "print(ergebnis/3)"
      ],
      "metadata": {
        "id": "416jhkc3p2wI"
      },
      "execution_count": null,
      "outputs": []
    },
    {
      "cell_type": "markdown",
      "source": [
        "Außerdem sind auch Funktionen mit mehr als zwei Inputs möglich. Hier ein einfaches Beispiel:"
      ],
      "metadata": {
        "id": "ihh0S4QYqPuf"
      }
    },
    {
      "cell_type": "code",
      "source": [
        "def addition(a, b):\n",
        "  return a+b"
      ],
      "metadata": {
        "id": "x7e5T24yqXzU"
      },
      "execution_count": null,
      "outputs": []
    }
  ]
}