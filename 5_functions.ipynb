{
  "cells": [
    {
      "cell_type": "markdown",
      "metadata": {
        "id": "QL9335kPjzHP"
      },
      "source": [
        "# Funktionen ⚙️\n",
        "\n",
        "Falls ihr es noch nicht gemerkt habt, sind Informatiker:innen recht faul und wollen so wenig Arbeit wie möglich machen. Deswegen würden sie sich beklagen, wenn sie 30 Male für jedes Beispiel \"Happy Birthday\" coden müssen."
      ]
    },
    {
      "cell_type": "markdown",
      "metadata": {
        "id": "_C3nBtL9lW8y"
      },
      "source": [
        "Dafür gibt es Funktionen. Funktionen erlauben dir deinen Code wiederzuverwenden und gleichzeitig alles übersichtlicher zu machen.\n",
        "\n",
        "\n",
        "\n",
        "\n",
        "Man definiert eine Funktion mit dem Schlüsselwort <font color=#EA5C19>\"**def**\"</font>. Dahinter folgt der Name der Funktion (wir können eine Funktion beliebig benennen - wie eine Variablen). Direkt hinter dem Namen folgen dann zwei Klammern `()` sowie ein Doppelpunkt. Die Struktur sieht so aus:\n",
        "```\n",
        "def name_der_funktion():\n",
        "  *Code*\n",
        "```\n",
        "Die Funktion rufen wir auf, indem wir nur den Namen der Funktion inklusive der Klammern ausführen:\n",
        "\n",
        "\n",
        "```\n",
        "name_der_funktion()\n",
        "```\n",
        "\n",
        "\n"
      ]
    },
    {
      "cell_type": "markdown",
      "metadata": {
        "id": "PIWFsxgvhr0m"
      },
      "source": [
        "\n",
        " <font color='orange'>***Aufgabe a)*** <br>\n",
        "  Führe einmal das folgende Beispiel aus!</font>"
      ]
    },
    {
      "cell_type": "code",
      "execution_count": 1,
      "metadata": {
        "id": "Ta5quW97hrjR"
      },
      "outputs": [],
      "source": [
        "def sag_hallo():\n",
        "  print(\"Hallo!\")"
      ]
    },
    {
      "cell_type": "markdown",
      "metadata": {
        "id": "feDaDqeaiEV0"
      },
      "source": [
        "Jetzt ist noch gar nichts passiert! Die Funktion ist jetzt zwar definiert, aber muss noch aufgerufen werden."
      ]
    },
    {
      "cell_type": "code",
      "execution_count": null,
      "metadata": {
        "id": "VuY7lFJ0h4fH"
      },
      "outputs": [],
      "source": [
        "sag_hallo()"
      ]
    },
    {
      "cell_type": "markdown",
      "metadata": {
        "id": "grmhKVkcmPbo"
      },
      "source": [
        "Und jetzt du!\n",
        "\n",
        " <font color='orange'>***Aufgabe b)*** <br>\n",
        "  Schreibe den Code des Geburtstagsliedes in eine Funktion rein (ohne Namen) und führe sie aus.</font>\n",
        "\n",
        "Zur Erinnerung, der Text ging so:\n",
        "\n",
        "\n",
        "```\n",
        "Happy birthday to you!\n",
        "Happy birthday to you!\n",
        "Happy birthday, dear Geburtstagskind!\n",
        "Happy birthday to you!\n",
        "```\n",
        "\n",
        "\n"
      ]
    },
    {
      "cell_type": "code",
      "execution_count": null,
      "metadata": {
        "id": "p4qXFiVQmbWu"
      },
      "outputs": [],
      "source": [
        "# Dein Code hier"
      ]
    },
    {
      "cell_type": "markdown",
      "metadata": {
        "id": "as6vRerbgP8A"
      },
      "source": [
        "Übrigens: Wir haben bisher bereits einige Funktionen benutzt! Nämlich beispielsweise die Funktionen `print` oder `input`. Diese wurden von anderen Personen geschrieben und wir können sie einfach benutzen, ohne einen langen komplizierten Code schreiben zu müssen. 🤓\n",
        "\n",
        "Sowohl bei der `print` als auch bei der `input`-Funktion waren die Klammern aber nicht leer, sondern wir konnten oder sollten einen *string*, also einen Text in Anführungszeichen, in die Klammer schreiben. Das was man bei Funktionen in die Klammern schreibt, nennt man Parameter. Die Funktion macht dann etwas, was von dem eingegebenen Paramater abhängt. Die Struktur sieht dann so aus:\n",
        "\n"
      ]
    },
    {
      "cell_type": "markdown",
      "metadata": {
        "id": "hoy1Udomm6bd"
      },
      "source": [
        "\n",
        "```\n",
        "def name_der_funktion(parameter):\n",
        "  *Code*\n",
        "```\n",
        "Und so rufen wir die Funktion mit Parameter auf:\n",
        "\n",
        "```\n",
        "name_der_funktion(parameter)\n",
        "```"
      ]
    },
    {
      "cell_type": "markdown",
      "metadata": {
        "id": "aClueJ9wlCds"
      },
      "source": [
        "\n",
        " <font color='orange'>***Aufgabe c)*** <br>\n",
        "  Führe einmal das folgende Beispiel für verschiedene Eingabenamen aus!\n",
        "\n",
        "  *Achtung: Den Namen musst du wieder in Anführungszeichen schreiben.*</font>"
      ]
    },
    {
      "cell_type": "code",
      "execution_count": 9,
      "metadata": {
        "id": "Fkx5PiRpkbPa"
      },
      "outputs": [],
      "source": [
        "def sag_hallo(name):\n",
        "  print(\"Hallo \" + name + \"!\")"
      ]
    },
    {
      "cell_type": "code",
      "execution_count": null,
      "metadata": {
        "id": "gi6vCDOzlPyM"
      },
      "outputs": [],
      "source": [
        " # Dein Code hier (Funktionsaufruf)"
      ]
    },
    {
      "cell_type": "markdown",
      "metadata": {
        "id": "picieiIklm2X"
      },
      "source": [
        " <font color='orange'>***Aufgabe d)*** <br>\n",
        "  Schreibe eine Funktion mit dem Parameter `name`, die das Geburtstagslied aus Aufgabe b) mit dem eingegebenen Namen ausgibt und rufe sie für verschiedene Eingaben auf."
      ]
    },
    {
      "cell_type": "code",
      "execution_count": null,
      "metadata": {
        "id": "OaBF3QVtnjGU"
      },
      "outputs": [],
      "source": [
        "# Dein Code hier"
      ]
    },
    {
      "cell_type": "markdown",
      "metadata": {
        "id": "yQMzNAYOn1ru"
      },
      "source": [
        "Jetzt überführen wir das ganze noch in ein Chatbot-Setting!\n",
        "\n",
        " <font color='orange'>***Aufgabe e)*** <br>\n",
        "  Schreibe den Code für einen Chatbot, der das Geburtstagskind nach dem Namen fragt und daraufhin das Geburstagslied aus Aufgabe d) singt.\n"
      ]
    },
    {
      "cell_type": "code",
      "execution_count": null,
      "metadata": {
        "id": "fxGPWpS2oIkd"
      },
      "outputs": [],
      "source": [
        "# Dein Code hier"
      ]
    },
    {
      "cell_type": "markdown",
      "metadata": {
        "id": "qy6l0xAyoI34"
      },
      "source": [
        "Wunderbar! Jetzt bist du mit dem nötigen Werkzeug ausgestattet, um dich an dein eigenes Chatbot-Projekt zu wagen! 🎉"
      ]
    },
    {
      "cell_type": "markdown",
      "metadata": {
        "id": "8fJEftLHoYsU"
      },
      "source": [
        "# Zusatz"
      ]
    },
    {
      "cell_type": "markdown",
      "metadata": {
        "id": "KTI_cdmNpMze"
      },
      "source": [
        "Bisher haben wir nur Funktionen betrachtet, die mit einem <font color=#EA5C19>\"**print**\"</font> statement enden. Es gibt allerdings noch eine universellere Möglichkeit für die Ausgabe der Funktion, nämlich <font color=#EA5C19>\"**return**\"</font>. Betrachte z.B. folgende Funktion, die das Quadrat einer Zahl berechnet:\n"
      ]
    },
    {
      "cell_type": "code",
      "execution_count": 11,
      "metadata": {
        "id": "Lvm4Fla-pLUP"
      },
      "outputs": [],
      "source": [
        "def quadrat(zahl):\n",
        "  return zahl*zahl"
      ]
    },
    {
      "cell_type": "markdown",
      "metadata": {
        "id": "Sl3Qv1zWq4sz"
      },
      "source": [
        "Der Vorteil davon ist, dass man das Ergebnis einfach in einer Variablen speichern kann und weiter im Code verwenden kann. Zum Beispiel so:"
      ]
    },
    {
      "cell_type": "code",
      "execution_count": null,
      "metadata": {
        "id": "416jhkc3p2wI"
      },
      "outputs": [],
      "source": [
        "ergebnis = quadrat(6)\n",
        "print(ergebnis/3)"
      ]
    },
    {
      "cell_type": "markdown",
      "metadata": {
        "id": "ihh0S4QYqPuf"
      },
      "source": [
        "Außerdem sind auch Funktionen mit mehr als zwei Inputs möglich. Hier ein einfaches Beispiel:"
      ]
    },
    {
      "cell_type": "code",
      "execution_count": null,
      "metadata": {
        "id": "x7e5T24yqXzU"
      },
      "outputs": [],
      "source": [
        "def addition(a, b):\n",
        "  return a+b"
      ]
    }
  ],
  "metadata": {
    "colab": {
      "provenance": [],
      "toc_visible": true
    },
    "kernelspec": {
      "display_name": "Python 3",
      "name": "python3"
    },
    "language_info": {
      "name": "python"
    }
  },
  "nbformat": 4,
  "nbformat_minor": 0
}
