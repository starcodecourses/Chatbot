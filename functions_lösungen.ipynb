{
  "nbformat": 4,
  "nbformat_minor": 0,
  "metadata": {
    "colab": {
      "provenance": []
    },
    "kernelspec": {
      "name": "python3",
      "display_name": "Python 3"
    },
    "language_info": {
      "name": "python"
    }
  },
  "cells": [
    {
      "cell_type": "markdown",
      "source": [
        "# <font color=#68A2FB>Funktionen</font>\n",
        "\n",
        "Falls ihr es noch nicht gemerkt habt, sind Informatiker:innen recht faul und wollen so wenig Arbeit wie möglich machen. Deswegen würden sie sich beklagen, wenn sie 30 Male für jedes Beispiel \"Happy Birthday\" coden müssen."
      ],
      "metadata": {
        "id": "QL9335kPjzHP"
      }
    },
    {
      "cell_type": "markdown",
      "source": [
        "Dafür gibt es Funktionen. Funktionen erlauben dir deinen Code wiederzuverwenden und gleichzeitig alles übersichtlicher zu machen.\n",
        "\n",
        "\n",
        "\n",
        "\n",
        "---\n",
        "\n",
        "\n",
        "\n",
        "\n",
        "Man definiert eine Funktion mit dem Schlüsselwort <font color=#EA5C19>\"**def**\"</font>. Die Struktur sieht so aus:\n",
        "\n",
        "def name_der_funktion()\n",
        "* Code"
      ],
      "metadata": {
        "id": "_C3nBtL9lW8y"
      }
    },
    {
      "cell_type": "markdown",
      "source": [
        "\n",
        "\n",
        "```\n",
        "# Als Code formatiert\n",
        "```\n",
        "\n",
        "Schreibt euren Code des Geburtstagsliedes in eine Funktion rein. Lasst erstmal den Namen des Geburtstagskindes weg."
      ],
      "metadata": {
        "id": "grmhKVkcmPbo"
      }
    },
    {
      "cell_type": "code",
      "source": [
        "def geburtstags_lied():\n",
        "  for zahl in range(4):\n",
        "    if zahl == 2:\n",
        "      print(\"Happy birthday dear Geburtstagskind!\")\n",
        "    else:\n",
        "      print(\"Happy birthday to you!\")"
      ],
      "metadata": {
        "id": "p4qXFiVQmbWu"
      },
      "execution_count": null,
      "outputs": []
    },
    {
      "cell_type": "markdown",
      "source": [
        "Um die Funktion aufzurufen, muss man nur den Namen der Funktion und die runden Klammern schreiben. Lasst uns mal die geburtstags_lied Funktion aufrufen."
      ],
      "metadata": {
        "id": "ZLWY28NwmiZ-"
      }
    },
    {
      "cell_type": "code",
      "source": [
        "geburtstags_lied()"
      ],
      "metadata": {
        "colab": {
          "base_uri": "https://localhost:8080/"
        },
        "id": "2Dohnx9Ymt5p",
        "outputId": "33849e85-8968-4e36-a6d9-04c73b1b82b3"
      },
      "execution_count": null,
      "outputs": [
        {
          "output_type": "stream",
          "name": "stdout",
          "text": [
            "Happy birthday to you!\n",
            "Happy birthday to you!\n",
            "Happy birthday dear Geburtstagskind!\n",
            "Happy birthday to you!\n"
          ]
        }
      ]
    },
    {
      "cell_type": "markdown",
      "source": [
        "Um jetzt den Namen des Geburtstagskind einzufügen, braucht unsere Funktion einen Parameter. Das bedeutet, dass unsere Funktion Information von anderswo kriegt und verwendet.\n",
        "\n",
        "Die Struktur sieht dann so aus:\n",
        "\n",
        "def name_der_funktion(parameter)\n",
        "* Code"
      ],
      "metadata": {
        "id": "hoy1Udomm6bd"
      }
    },
    {
      "cell_type": "code",
      "source": [
        "def geburtstags_lied(name):\n",
        "  for zahl in range(4):\n",
        "    if zahl == 2:\n",
        "      print(\"Happy birthday dear \" + name + \"!\")\n",
        "    else:\n",
        "      print(\"Happy birthday to you!\")"
      ],
      "metadata": {
        "id": "Fkx5PiRpkbPa"
      },
      "execution_count": null,
      "outputs": []
    },
    {
      "cell_type": "code",
      "source": [
        "name = input(\"Wie heißt das Geburtstagskind?\")\n",
        "geburtstags_lied(name)"
      ],
      "metadata": {
        "colab": {
          "base_uri": "https://localhost:8080/"
        },
        "id": "OaBF3QVtnjGU",
        "outputId": "85a7369c-dc36-4887-883f-d974aa575f46"
      },
      "execution_count": null,
      "outputs": [
        {
          "output_type": "stream",
          "name": "stdout",
          "text": [
            "Wie heißt das Geburtstagskind?Julia\n",
            "Happy birthday to you!\n",
            "Happy birthday to you!\n",
            "Happy birthday dear Julia!\n",
            "Happy birthday to you!\n"
          ]
        }
      ]
    },
    {
      "cell_type": "markdown",
      "source": [
        "Wir wollen jetzt eine Funktion, die den zweiten Buchstaben des Namens ausgibt.\n"
      ],
      "metadata": {
        "id": "yQMzNAYOn1ru"
      }
    },
    {
      "cell_type": "markdown",
      "source": [
        "Dafür verwenden wir anstatt von <font color=#EA5C19>\"**print**\"</font>, einen <font color=#EA5C19>\"**return**\"</font>-statement."
      ],
      "metadata": {
        "id": "KTI_cdmNpMze"
      }
    },
    {
      "cell_type": "code",
      "source": [
        "def zweites_buchstabe(name):\n",
        "  return name[1]"
      ],
      "metadata": {
        "id": "Lvm4Fla-pLUP"
      },
      "execution_count": null,
      "outputs": []
    },
    {
      "cell_type": "code",
      "source": [
        "name = input(\"Wie heißt das Geburtstagskind?\")\n",
        "zweites_buchstabe(name)"
      ],
      "metadata": {
        "colab": {
          "base_uri": "https://localhost:8080/"
        },
        "id": "416jhkc3p2wI",
        "outputId": "776c914b-d036-46c0-aeca-d570a5166fcf"
      },
      "execution_count": null,
      "outputs": [
        {
          "name": "stdout",
          "output_type": "stream",
          "text": [
            "Wie heißt das Geburtstagskind?Julia\n"
          ]
        },
        {
          "output_type": "execute_result",
          "data": {
            "application/vnd.google.colaboratory.intrinsic+json": {
              "type": "string"
            },
            "text/plain": [
              "'u'"
            ]
          },
          "metadata": {},
          "execution_count": 2
        }
      ]
    }
  ]
}
