{
  "nbformat": 4,
  "nbformat_minor": 0,
  "metadata": {
    "colab": {
      "provenance": []
    },
    "kernelspec": {
      "name": "python3",
      "display_name": "Python 3"
    },
    "language_info": {
      "name": "python"
    }
  },
  "cells": [
    {
      "cell_type": "markdown",
      "source": [
        "# <font color=#68A2FB>Bedingungen</font>\n",
        "\n",
        "Nach dem wir gelernt haben mit Texten umzugehen, ist es Zeit mit der Information, die man bekommt, was anzufangen! 🎉\n",
        "\n",
        "Ein wichtiger Aspekt beim Chatbot ist es, durch Bedingungen verschiedene Entscheidungen zu treffen."
      ],
      "metadata": {
        "id": "Y6SbIbsX3zJn"
      }
    },
    {
      "cell_type": "markdown",
      "source": [
        "Wir greifen ein Codeauschnitt der Textübungen auf. Jetzt wollen wir nicht nur den Namen des Geburtstagskind wissen, sondern auch, wie alt es ist. Dafür fügen wir eine neue Variable --alter-- hinzu!"
      ],
      "metadata": {
        "id": "-jaWdAa35eBl"
      }
    },
    {
      "cell_type": "code",
      "source": [
        "name = input(\"Wie heißt das Geburtstagskind?\")\n",
        "alter = input(\"Wie alt ist das Geburtstagskind?\")"
      ],
      "metadata": {
        "id": "vCVfIilK4Rgn"
      },
      "execution_count": null,
      "outputs": []
    },
    {
      "cell_type": "markdown",
      "source": [
        "Wir haben bisher nur mit Texten gearbeitet. Die Frage ist, wie kann man das Alter des Geburtstagskind in eine Zahl verwandeln?\n",
        "\n",
        "Das geht sehr einfach! <font color=#EA5C19>\"**int**\"</font>, kurz für integer, bedeutet auf Englisch ganze Zahl."
      ],
      "metadata": {
        "id": "XkY4_vAPH7ed"
      }
    },
    {
      "cell_type": "code",
      "source": [
        "alter = int(alter)\n",
        "print(alter)"
      ],
      "metadata": {
        "id": "a5fBcRyuIo7i"
      },
      "execution_count": null,
      "outputs": []
    },
    {
      "cell_type": "markdown",
      "source": [
        "Wir wollen jetzt wissen, ob das Geburtstagskind ein Kind ist (Alter 0-12 Jahre) 👧🏽. Um das herauszufinden brauchen wir die Einführung der Bedingung des Alters. Das schafft man durch <font color=#EA5C19>\"if-else\"</font>.\n",
        "\n",
        "\n",
        "if (Bedingung ist erfüllt):\n",
        "\n",
        "*  dieser Code wird ausgeführt\n",
        "\n",
        "else:\n",
        "\n",
        "*  dieser Code wird ausgeführt\n",
        "\n",
        "\n",
        "\n",
        "Das heißt, ist die Bedingung erfüllt, wird unser Chatbot den Code des if-statements ausführt und ansonstens den anderen (else)."
      ],
      "metadata": {
        "id": "T8GYR4QP6Tmn"
      }
    },
    {
      "cell_type": "code",
      "source": [
        "# Hier musst du die richtige Bedingung einfügen. Wann ist das Geburtstagskind\n",
        "# ein Kind?\n",
        "if _:\n",
        "  print(\"Das Geburtstagskind ist ein Kind!\")\n",
        "else:\n",
        "  print(\"Das Geburtstagskind ist kein Kind!\")"
      ],
      "metadata": {
        "id": "_v5ysp8l8OWC"
      },
      "execution_count": null,
      "outputs": []
    },
    {
      "cell_type": "markdown",
      "source": [
        "‼️Kleiner Hinweis: probiert, das else-statement wegzulassen. Was könnt ihr erkennen?"
      ],
      "metadata": {
        "id": "EpFewJHM-HDL"
      }
    },
    {
      "cell_type": "code",
      "source": [
        "if _:\n",
        "  print(\"Das Geburtstagskind ist ein Kind!\")"
      ],
      "metadata": {
        "id": "Os13YSG3-ulR"
      },
      "execution_count": null,
      "outputs": []
    },
    {
      "cell_type": "markdown",
      "source": [
        "Genau! Das else-statement ist optional! Unser Code läuft auch wenn es kein else-statement gibt."
      ],
      "metadata": {
        "id": "NWgP-Czl-zQT"
      }
    },
    {
      "cell_type": "markdown",
      "source": [
        "Es gibt nicht nur if-else, sondern auch elif. <font color=#EA5C19>\"elif\"</font> ist eine Kombination aus \"else-if\". Das heißt: Wenn die Bedingung im if-statement nicht erfüllt wurde, schaut das Programm nach, ob die Bedingung im elif-statement erfüllt wird und wenn die nicht erfüllt wird schaut es im else-statement nach, falls eins vorhanden ist.\n",
        "\n",
        "if (Bedingung ist erfüllt):\n",
        "\n",
        "* dieser Code wird ausgeführt\n",
        "\n",
        "elif (Bedingung ist erfüllt):\n",
        "\n",
        "* dieser Code wird ausgeführt\n",
        "\n",
        "else:\n",
        "\n",
        "* dieser Code wird ausgeführt\n",
        "\n",
        "\n",
        "---\n",
        "\n",
        "\n",
        "\n",
        "Schreibe einen Programm, dass widergibt, ob das Geburtstagskind ein Kind (0-12 Jahre) 👧🏽, Jugendlicher (13-19 Jahre) 👩🏻‍🦰 oder Erwachsener (ab 20 Jahre)  👩🏾‍🦳 ist.\n",
        "\n",
        "\n",
        "Als Tipp: für Jugendliche könnt ihr zwei Bedingungen verwenden, die mit einem und --and-- verbunden sind. D.h. \"alter > 12 and alter < 20\""
      ],
      "metadata": {
        "id": "98U0Er6B_b67"
      }
    },
    {
      "cell_type": "code",
      "source": [
        "# Was sind hier die richtigen Bedingungen?\n",
        "if _:\n",
        "  print(\"Das Geburtstagskind ist ein Kind!\")\n",
        "elif _:\n",
        "  print(\"Das Geburtstagskind ist ein Jugendlicher\")\n",
        "else:\n",
        "  print(\"Das Geburtstagskind ist ein Erwachsener\")"
      ],
      "metadata": {
        "id": "Qy9YPJJqA9a7"
      },
      "execution_count": null,
      "outputs": []
    },
    {
      "cell_type": "markdown",
      "source": [
        "Nun wollen wir den Namen und Alter von einer weiteren Person wissen."
      ],
      "metadata": {
        "id": "fxiuCSqJClIH"
      }
    },
    {
      "cell_type": "code",
      "source": [
        "name_person1 = input('Wie heißt das erste Geburtstagskind?')\n",
        "alter_person1 = input(\"Wie alt ist das erste Geburtstagskind?\")\n",
        "\n",
        "name_person2 = input('Wie heißt das zweite Geburtstagskind?')\n",
        "alter_person2 = input(\"Wie alt ist das zweite Geburtstagskind?\")"
      ],
      "metadata": {
        "id": "CCC5GfR_Fms6"
      },
      "execution_count": null,
      "outputs": []
    },
    {
      "cell_type": "markdown",
      "source": [
        "Jetzt wollen wir wissen, welches Geburtstagskind das ältere ist, oder ob sie gleich alt sind!\n",
        "\n",
        "Schreibe ein Programm, dass dies herausfindet!"
      ],
      "metadata": {
        "id": "P8_I5FOfF4Zb"
      }
    },
    {
      "cell_type": "code",
      "source": [
        "# Was sind hier die richtigen Bedingungen?\n",
        "if _:\n",
        "  print(name_person2 + \" ist älter als \" + name_person1)\n",
        "elif _:\n",
        "  print(name_person1 + \" ist älter als \" + name_person2)\n",
        "else:\n",
        "  print(name_person1 + \" und \" + name_person2 + \" sind gleich alt!\")"
      ],
      "metadata": {
        "id": "TITcl5wOGM5k"
      },
      "execution_count": null,
      "outputs": []
    },
    {
      "cell_type": "markdown",
      "source": [
        "**Bonusaufgabe:** Zu guter Letzt wollen wir noch ein bisschen Farbe ins Spiel bringen. Das Ziel ist ein Programm, das eine Eingabe-Farbe mit blau mischt. Ersetze alle Sternchen durch passenden Quellcode."
      ],
      "metadata": {
        "id": "WxZMDrWVqQOm"
      }
    },
    {
      "cell_type": "code",
      "source": [
        "def grün():\n",
        "    print(\"\\033[1;32;32m Grün  \\n\")\n",
        "def violett():\n",
        "     print(\"\\033[1;35;35m Violett  \\n\")\n",
        "def fehler():\n",
        "     print(\"\\033[1;37;40m Keine bekannte Farbmischung  \\n\")\n",
        "\n",
        "#Hier beginnt dein Programm\n",
        "color = input('Welche Farbe willst du mit blau mischen?')\n",
        "\n",
        "if *:\n",
        "  grün()\n",
        "elif *:\n",
        "  *\n",
        "else: fehler()\n",
        "\n",
        "\n"
      ],
      "metadata": {
        "colab": {
          "base_uri": "https://localhost:8080/"
        },
        "id": "p8kHqlFyqVHM",
        "outputId": "dbc91d60-803d-4b85-ea19-7423489969b4"
      },
      "execution_count": null,
      "outputs": [
        {
          "output_type": "stream",
          "name": "stdout",
          "text": [
            "\u001b[1;35;35m Violett  \n",
            "\n"
          ]
        }
      ]
    }
  ]
}