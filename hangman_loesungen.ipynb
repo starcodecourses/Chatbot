{
  "nbformat": 4,
  "nbformat_minor": 0,
  "metadata": {
    "colab": {
      "provenance": []
    },
    "kernelspec": {
      "name": "python3",
      "display_name": "Python 3"
    },
    "language_info": {
      "name": "python"
    }
  },
  "cells": [
    {
      "cell_type": "markdown",
      "source": [
        "# Galgenmännchen\n",
        "\n",
        "Deine Aufgabe ist es, das Spiel [Galgenmännchen](https://de.wikipedia.org/wiki/Galgenm%C3%A4nnchen) zu programmieren. Das Spiel soll wie folgt funktionieren:\n",
        "\n",
        "1. Das Programm fragt Spieler\\*in A nach einem Wort, das erraten werden soll.\n",
        "2. Das Programm zeigt so viele Lücken (Dieses Symbol: `_`), wie das Wort Buchstaben hat.\n",
        "3. Das Programm fragt Spieler\\*in B nach einem Buchstaben.\n",
        "4. Das Programm gibt eine Version des Wortes aus, bei der alle Vorkommen des Buchstabens im Wort aufgedeckt werden. Zum Beispiel: Ist das Wort `Elefant` und Spieler\\*in B rät ein `e`, dann würde jetzt `E _ e _ _ _ _` angezeigt.\n",
        "5. Wenn das Wort vollständig aufgedeckt ist, ist das Spiel gewonnen.\n",
        "6. Wenn ein Buchstabe überhaupt nicht vorkommt, wird ein Galgen gezeichnet. Ist der Galgen vollständig gezeichnet, ist das Spiel ebenfalls vorbei.\n",
        "\n",
        "Das ist nun ganz schön viel auf einmal. Statt das alles auf einmal anzugehen, bauen wir das Spiel Schritt für Schritt auf."
      ],
      "metadata": {
        "id": "W2LU_Klu15Ms"
      }
    },
    {
      "cell_type": "markdown",
      "source": [
        "### Nach einem Wort fragen\n",
        "\n",
        "Zuerst lernen wir, nach einem Wort zu fragen. Dafür hast du ja bereits die Funktion `input` kennen gelernt. Allerdings soll ja hier das Wort geheim sein. Daher sollten wir für die Abfrage lieber die Funktion `getpass` benutzen, die auch für Passwortabfragen benutzt wird.\n",
        "\n",
        "Schreibe ein Programm, das nach einem Wort fragt, und dann gerade so viele Lücken `_` anzeigt, wie das Wort lang ist."
      ],
      "metadata": {
        "id": "56BJHpg2RY7F"
      }
    },
    {
      "cell_type": "code",
      "source": [
        "from getpass import getpass\n",
        "wort = getpass('Psst! Welches Wort soll erraten werden?')\n",
        "\n",
        "print('_ ' * len(wort))"
      ],
      "metadata": {
        "colab": {
          "base_uri": "https://localhost:8080/"
        },
        "id": "L2fiwDjdXjYd",
        "outputId": "547bda51-9e25-4ef9-9373-629915c95cdc"
      },
      "execution_count": null,
      "outputs": [
        {
          "output_type": "stream",
          "name": "stdout",
          "text": [
            "Psst! Welches Wort soll erraten werden?··········\n",
            "_ _ _ _ _ \n"
          ]
        }
      ]
    },
    {
      "cell_type": "markdown",
      "source": [
        "### Prüfen, ob ein Buchstabe im Wort erscheint\n",
        "\n",
        "Schreibe als nächstes ein Programm, das mit `input` nach einem Buchstaben fragt und dann prüft, ob dieser Buchstabe im Wort vorkommt. Wenn ja, dann gib aus `'Das Wort enthält ein ' + buchstabe` und sonst `'Das Wort enthält leider kein ' + buchstabe`."
      ],
      "metadata": {
        "id": "s6vaAX3tXpyY"
      }
    },
    {
      "cell_type": "code",
      "source": [
        "buchstabe = input('Welcher Buchstabe?')\n",
        "\n",
        "if buchstabe in wort:\n",
        "  print('Das Wort enthält ein ' + buchstabe + '.')\n",
        "else:\n",
        "  print('Das Wort enthält leider kein ' + buchstabe + '.')\n"
      ],
      "metadata": {
        "colab": {
          "base_uri": "https://localhost:8080/"
        },
        "id": "-vtxhyhqXrJM",
        "outputId": "55ac95cb-6b7d-44ac-a360-b52955fdcc28"
      },
      "execution_count": null,
      "outputs": [
        {
          "output_type": "stream",
          "name": "stdout",
          "text": [
            "Welcher Buchstabe?H\n",
            "Das Wort enthält ein H.\n"
          ]
        }
      ]
    },
    {
      "cell_type": "markdown",
      "source": [
        "### Buchstaben aufdecken\n",
        "\n",
        "Als nächstes, schreibe ein Programm, das alle Lücken `_ ` aufdeckt, die dem Buchstaben entsprechen.\n",
        "\n",
        "Also wenn das Wort zum Beispiel `elefant` ist und der Buchstabe `e`, dann solltest du `e _ e _ _ _ _ ` ausgeben, weil beide `e`s aufgedeckt werden."
      ],
      "metadata": {
        "id": "dkfuq02kYZqd"
      }
    },
    {
      "cell_type": "code",
      "source": [
        "buchstabe = input('Welcher Buchstabe?')\n",
        "ausgabe = ''\n",
        "for i in range(len(wort)):\n",
        "  if wort[i] == buchstabe:\n",
        "    ausgabe = ausgabe + buchstabe + ' '\n",
        "  else:\n",
        "    ausgabe = ausgabe + '_ '\n",
        "print(ausgabe)"
      ],
      "metadata": {
        "colab": {
          "base_uri": "https://localhost:8080/"
        },
        "id": "j-RsX-d_YxuJ",
        "outputId": "3d06143c-90cc-459f-c6b9-70e9c9fd4139"
      },
      "execution_count": null,
      "outputs": [
        {
          "output_type": "stream",
          "name": "stdout",
          "text": [
            "Welcher Buchstabe?l\n",
            "_ _ l l _ \n"
          ]
        }
      ]
    },
    {
      "cell_type": "markdown",
      "source": [
        "### Mehrere Buchstaben aufdecken\n",
        "\n",
        "Das ist doch schon eine Menge. Jetzt braucht es noch eine Schleife, die uns erlaubt, mehrere Buchstaben hintereinander zu erraten und dann immer neue Buchstaben aufdeckt."
      ],
      "metadata": {
        "id": "BbTx9QCGZMDO"
      }
    },
    {
      "cell_type": "code",
      "source": [
        "ausgabe = '_ ' * len(wort)\n",
        "for runde in range(3):\n",
        "  buchstabe = input('Welcher Buchstabe?')\n",
        "  neue_ausgabe = ''\n",
        "  for i in range(len(wort)):\n",
        "    if wort[i] == buchstabe:\n",
        "      neue_ausgabe += buchstabe + ' '\n",
        "    else:\n",
        "      neue_ausgabe += ausgabe[2*i] + ' '\n",
        "  ausgabe = neue_ausgabe\n",
        "  print(ausgabe)"
      ],
      "metadata": {
        "colab": {
          "base_uri": "https://localhost:8080/"
        },
        "id": "2UWyrzh_ZJ_J",
        "outputId": "d8ea496f-b8dc-4113-a190-57e983bf23da"
      },
      "execution_count": null,
      "outputs": [
        {
          "output_type": "stream",
          "name": "stdout",
          "text": [
            "Welcher Buchstabe?ll\n",
            "_ _ _ _ _ \n",
            "Welcher Buchstabe?l\n",
            "_ _ l l _ \n",
            "Welcher Buchstabe?H\n",
            "H _ l l _ \n"
          ]
        }
      ]
    },
    {
      "cell_type": "markdown",
      "source": [
        "### Gewinnen\n",
        "\n",
        "Nun sollten wir das Spiel noch beenden, wenn das Wort vollständig aufgedeckt ist. Prüfe, ob in der Ausgabe noch eine Lücke `_` enthalten ist. Wenn nicht, gib aus `'Glückwunsch, du hast gewonnen!'` und beende die Schleife mit einem `break`-Befehl."
      ],
      "metadata": {
        "id": "y2dHjDoIfrcD"
      }
    },
    {
      "cell_type": "code",
      "source": [
        "ausgabe = '_ ' * len(wort)\n",
        "for runde in range(100):\n",
        "  buchstabe = input('Welcher Buchstabe?')\n",
        "  neue_ausgabe = ''\n",
        "  for i in range(len(wort)):\n",
        "    if wort[i] == buchstabe:\n",
        "      neue_ausgabe += buchstabe + ' '\n",
        "    else:\n",
        "      neue_ausgabe += ausgabe[2*i] + ' '\n",
        "  ausgabe = neue_ausgabe\n",
        "  print(ausgabe)\n",
        "  if '_' not in ausgabe:\n",
        "    print('Glückwunsch, du hast gewonnen!')\n",
        "    break"
      ],
      "metadata": {
        "colab": {
          "base_uri": "https://localhost:8080/"
        },
        "id": "KYE9xluhfqeY",
        "outputId": "f03b5989-515b-4a59-c871-0a02c33cdcd7"
      },
      "execution_count": null,
      "outputs": [
        {
          "output_type": "stream",
          "name": "stdout",
          "text": [
            "Welcher Buchstabe?l\n",
            "_ l _ _ _ _ _ \n",
            "Welcher Buchstabe?f\n",
            "_ l _ f _ _ _ \n",
            "Welcher Buchstabe?e\n",
            "e l e f _ _ _ \n",
            "Welcher Buchstabe?n\n",
            "e l e f _ n _ \n",
            "Welcher Buchstabe?a\n",
            "e l e f a n _ \n",
            "Welcher Buchstabe?t\n",
            "e l e f a n t \n",
            "Glückwunsch, du hast gewonnen!\n"
          ]
        }
      ]
    },
    {
      "cell_type": "markdown",
      "source": [
        "### Falsche Buchstaben zählen\n",
        "\n",
        "Schreibe nun eine Schleife, in der wir nach einem Buchstaben fragen und jedes mal, wenn der Buchstabe _nicht_ im Wort vorkommt, die Anzahl der bereits falsch geratenen Buchstaben ausgeben."
      ],
      "metadata": {
        "id": "kgkOcZtWbWRq"
      }
    },
    {
      "cell_type": "code",
      "source": [
        "falsch_geraten = 0\n",
        "for runde in range(3):\n",
        "  buchstabe = input('Welcher Buchstabe?')\n",
        "  if buchstabe not in wort:\n",
        "    falsch_geraten += 1\n",
        "    print('Schon ' + str(falsch_geraten) + ' mal falsch geraten.')\n"
      ],
      "metadata": {
        "colab": {
          "base_uri": "https://localhost:8080/"
        },
        "id": "kiv000qKbWBL",
        "outputId": "23a9c865-6719-443a-942f-197a131f94b6"
      },
      "execution_count": null,
      "outputs": [
        {
          "output_type": "stream",
          "name": "stdout",
          "text": [
            "Welcher Buchstabe?l\n",
            "Welcher Buchstabe?f\n",
            "Welcher Buchstabe?k\n",
            "Schon 1 mal falsch geraten.\n"
          ]
        }
      ]
    },
    {
      "cell_type": "markdown",
      "source": [
        "### Galgenmännchen zeichnen\n",
        "\n",
        "Erweitere dieses Programm, indem du nicht die Anzahl der falsch geratenen Buchstaben ausgibst, sondern stattdessen das entsprechende Galgenmännchen aus der folgenden Liste.\n",
        "\n",
        "Und wenn das Galgenmännchen vollständig ist, gib `'Du hast leider verloren.'` aus und stoppe die Schleife mit einem `break`-Befehl."
      ],
      "metadata": {
        "id": "pWMdWkvWex8g"
      }
    },
    {
      "cell_type": "code",
      "source": [
        "hangman = ['''\n",
        "  +---+\n",
        "  |   |\n",
        "      |\n",
        "      |\n",
        "      |\n",
        "      |\n",
        "=========''', '''\n",
        "  +---+\n",
        "  |   |\n",
        "  O   |\n",
        "      |\n",
        "      |\n",
        "      |\n",
        "=========''', '''\n",
        "  +---+\n",
        "  |   |\n",
        "  O   |\n",
        "  |   |\n",
        "      |\n",
        "      |\n",
        "=========''', '''\n",
        "  +---+\n",
        "  |   |\n",
        "  O   |\n",
        " /|   |\n",
        "      |\n",
        "      |\n",
        "=========''', '''\n",
        "  +---+\n",
        "  |   |\n",
        "  O   |\n",
        " /|\\  |\n",
        "      |\n",
        "      |\n",
        "=========''', '''\n",
        "  +---+\n",
        "  |   |\n",
        "  O   |\n",
        " /|\\  |\n",
        " /    |\n",
        "      |\n",
        "=========''', '''\n",
        "  +---+\n",
        "  |   |\n",
        "  O   |\n",
        " /|\\  |\n",
        " / \\  |\n",
        "      |\n",
        "=========''']"
      ],
      "metadata": {
        "id": "UD8UhuH1fLHL"
      },
      "execution_count": null,
      "outputs": []
    },
    {
      "cell_type": "code",
      "source": [
        "falsch_geraten = 0\n",
        "for runde in range(100):\n",
        "  buchstabe = input('Welcher Buchstabe?')\n",
        "  if buchstabe not in wort:\n",
        "    falsch_geraten += 1\n",
        "    print(hangman[falsch_geraten-1])\n",
        "    if falsch_geraten == len(hangman):\n",
        "      print('Du hast leider verloren.')\n",
        "      break\n"
      ],
      "metadata": {
        "id": "xgHHCBZQexTV",
        "colab": {
          "base_uri": "https://localhost:8080/"
        },
        "outputId": "4565d080-a578-4027-f8f8-ae65bf55009b"
      },
      "execution_count": null,
      "outputs": [
        {
          "output_type": "stream",
          "name": "stdout",
          "text": [
            "Welcher Buchstabe?l\n",
            "Welcher Buchstabe?f\n",
            "Welcher Buchstabe?e\n",
            "Welcher Buchstabe?k\n",
            "\n",
            "  +---+\n",
            "  |   |\n",
            "      |\n",
            "      |\n",
            "      |\n",
            "      |\n",
            "=========\n",
            "Welcher Buchstabe?u\n",
            "\n",
            "  +---+\n",
            "  |   |\n",
            "  O   |\n",
            "      |\n",
            "      |\n",
            "      |\n",
            "=========\n",
            "Welcher Buchstabe?r\n",
            "\n",
            "  +---+\n",
            "  |   |\n",
            "  O   |\n",
            "  |   |\n",
            "      |\n",
            "      |\n",
            "=========\n",
            "Welcher Buchstabe?s\n",
            "\n",
            "  +---+\n",
            "  |   |\n",
            "  O   |\n",
            " /|   |\n",
            "      |\n",
            "      |\n",
            "=========\n",
            "Welcher Buchstabe?q\n",
            "\n",
            "  +---+\n",
            "  |   |\n",
            "  O   |\n",
            " /|\\  |\n",
            "      |\n",
            "      |\n",
            "=========\n",
            "Welcher Buchstabe?t\n",
            "Welcher Buchstabe?g\n",
            "\n",
            "  +---+\n",
            "  |   |\n",
            "  O   |\n",
            " /|\\  |\n",
            " /    |\n",
            "      |\n",
            "=========\n",
            "Welcher Buchstabe?h\n",
            "\n",
            "  +---+\n",
            "  |   |\n",
            "  O   |\n",
            " /|\\  |\n",
            " / \\  |\n",
            "      |\n",
            "=========\n",
            "Du hast leider verloren.\n"
          ]
        }
      ]
    },
    {
      "cell_type": "markdown",
      "source": [
        "### Alles zusammenbringen\n",
        "\n",
        "Nun brauchst du nur noch alles zu einem Hangman-Spiel zusammenzubringen!"
      ],
      "metadata": {
        "id": "eGAxS1fZff8D"
      }
    },
    {
      "cell_type": "code",
      "source": [
        "from getpass import getpass\n",
        "wort = getpass('Psst! Welches Wort soll erraten werden?')\n",
        "\n",
        "ausgabe = '_ ' * len(wort)\n",
        "falsch_geraten = 0\n",
        "for runde in range(100):\n",
        "  buchstabe = input('Welcher Buchstabe?')\n",
        "  if buchstabe not in wort:\n",
        "    falsch_geraten += 1\n",
        "    print(hangman[falsch_geraten-1])\n",
        "    if falsch_geraten == len(hangman):\n",
        "      print('Du hast leider verloren.')\n",
        "      break\n",
        "  else:\n",
        "    neue_ausgabe = ''\n",
        "    for i in range(len(wort)):\n",
        "      if wort[i] == buchstabe:\n",
        "        neue_ausgabe += buchstabe + ' '\n",
        "      else:\n",
        "        neue_ausgabe += ausgabe[2*i] + ' '\n",
        "    ausgabe = neue_ausgabe\n",
        "    print(ausgabe)\n",
        "    if '_' not in ausgabe:\n",
        "      print('Glückwunsch, du hast gewonnen!')\n",
        "      break"
      ],
      "metadata": {
        "id": "oWLXn065RW99",
        "colab": {
          "base_uri": "https://localhost:8080/"
        },
        "outputId": "d3c49871-ea1a-407d-8848-43273ad66b4b"
      },
      "execution_count": null,
      "outputs": [
        {
          "output_type": "stream",
          "name": "stdout",
          "text": [
            "Psst! Welches Wort soll erraten werden?··········\n",
            "Welcher Buchstabe?e\n",
            "e _ e _ _ _ _ \n",
            "Welcher Buchstabe?l\n",
            "e l e _ _ _ _ \n",
            "Welcher Buchstabe?k\n",
            "\n",
            "  +---+\n",
            "  |   |\n",
            "      |\n",
            "      |\n",
            "      |\n",
            "      |\n",
            "=========\n",
            "Welcher Buchstabe?n\n",
            "e l e _ _ n _ \n",
            "Welcher Buchstabe?t\n",
            "e l e _ _ n t \n",
            "Welcher Buchstabe?f\n",
            "e l e f _ n t \n",
            "Welcher Buchstabe?a\n",
            "e l e f a n t \n",
            "Glückwunsch, du hast gewonnen!\n"
          ]
        }
      ]
    },
    {
      "cell_type": "markdown",
      "source": [
        "## Mit Funktion\n",
        "\n",
        "Um den Code etwas übersichtlicher und hübscher zu gestalten wollen wir jetzt noch die Überarbeitung der Ausgabe in eine Funktion auslagern. Schreibe eine Funktion `aufdecken`, die das richtige Wort, eine lückenhafte Version des Wortes, und einen Buchstaben als Eingabe bekommt und dann eine neue lückenhafte Version des Wortes zurückgibt, bei dem alle Vorkommen des Buchstabens aufgedeckt sind.\n",
        "\n",
        "Also zum Beispiel: `aufdecken('elefant', '_ l _ f _ _ _', 'e')` soll `'e l e f _ _ _'` zurückgeben."
      ],
      "metadata": {
        "id": "GHXhhORjTM8v"
      }
    },
    {
      "cell_type": "code",
      "source": [
        "def aufdecken(wort, lueckentext, buchstabe):\n",
        "  ausgabe = ''\n",
        "  for i in range(len(wort)):\n",
        "      if wort[i] == buchstabe:\n",
        "        ausgabe += buchstabe + ' '\n",
        "      else:\n",
        "        ausgabe += lueckentext[2*i] + ' '\n",
        "  return ausgabe\n",
        "\n",
        "print(aufdecken('elefant', '_ l _ f _ _ _ ', 'e'))"
      ],
      "metadata": {
        "colab": {
          "base_uri": "https://localhost:8080/"
        },
        "id": "t4Bg66-iTMQG",
        "outputId": "1ff10f1e-0bef-4f2a-c423-a4ad2f3e0b4a"
      },
      "execution_count": null,
      "outputs": [
        {
          "output_type": "stream",
          "name": "stdout",
          "text": [
            "e l e f _ _ _ \n"
          ]
        }
      ]
    },
    {
      "cell_type": "markdown",
      "source": [
        "Benutze diese Funktion in deinem Hangman-Programm, um das Programm zu vereinfachen."
      ],
      "metadata": {
        "id": "Nj3_7JI_Uh6x"
      }
    },
    {
      "cell_type": "code",
      "source": [
        "from getpass import getpass\n",
        "wort = getpass('Psst! Welches Wort soll erraten werden?')\n",
        "\n",
        "ausgabe = '_ ' * len(wort)\n",
        "falsch_geraten = 0\n",
        "for runde in range(100):\n",
        "  buchstabe = input('Welcher Buchstabe?')\n",
        "  if buchstabe not in wort:\n",
        "    falsch_geraten += 1\n",
        "    print(hangman[falsch_geraten-1])\n",
        "    if falsch_geraten == len(hangman):\n",
        "      print('Du hast leider verloren.')\n",
        "      break\n",
        "  else:\n",
        "    ausgabe = aufdecken(wort, ausgabe, buchstabe)\n",
        "    print(ausgabe)\n",
        "    if '_' not in ausgabe:\n",
        "      print('Glückwunsch, du hast gewonnen!')\n",
        "      break"
      ],
      "metadata": {
        "colab": {
          "base_uri": "https://localhost:8080/"
        },
        "id": "kACaqt4LUc7N",
        "outputId": "3d83521e-5cd8-43f9-dc71-cd51d9080af7"
      },
      "execution_count": null,
      "outputs": [
        {
          "output_type": "stream",
          "name": "stdout",
          "text": [
            "Psst! Welches Wort soll erraten werden?··········\n",
            "Welcher Buchstabe?n\n",
            "_ _ _ _ _ n _ \n",
            "Welcher Buchstabe?e\n",
            "e _ e _ _ n _ \n",
            "Welcher Buchstabe?l\n",
            "e l e _ _ n _ \n",
            "Welcher Buchstabe?f\n",
            "e l e f _ n _ \n",
            "Welcher Buchstabe?a\n",
            "e l e f a n _ \n",
            "Welcher Buchstabe?k\n",
            "\n",
            "  +---+\n",
            "  |   |\n",
            "      |\n",
            "      |\n",
            "      |\n",
            "      |\n",
            "=========\n",
            "Welcher Buchstabe?l\n",
            "e l e f a n _ \n",
            "Welcher Buchstabe?u\n",
            "\n",
            "  +---+\n",
            "  |   |\n",
            "  O   |\n",
            "      |\n",
            "      |\n",
            "      |\n",
            "=========\n",
            "Welcher Buchstabe?t\n",
            "e l e f a n t \n",
            "Glückwunsch, du hast gewonnen!\n"
          ]
        }
      ]
    }
  ]
}