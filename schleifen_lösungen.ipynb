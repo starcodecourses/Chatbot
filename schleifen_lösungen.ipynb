{
  "nbformat": 4,
  "nbformat_minor": 0,
  "metadata": {
    "colab": {
      "provenance": []
    },
    "kernelspec": {
      "name": "python3",
      "display_name": "Python 3"
    },
    "language_info": {
      "name": "python"
    }
  },
  "cells": [
    {
      "cell_type": "markdown",
      "source": [
        "# <font color=#68A2FB>Schleifen</font>\n",
        "\n",
        "\n"
      ],
      "metadata": {
        "id": "1J5ibtxwKcWn"
      }
    },
    {
      "cell_type": "markdown",
      "source": [
        "Nach so viel Lernmaterial wird man schon ein bisschen erschöpft und will nicht umbedingt so viel schreiben. Perfekt wärs, wenn es irgendwas gäbe, was den Code wiederholen könnte. Zum Glück gibt es dafür Schleifen!"
      ],
      "metadata": {
        "id": "0hlJdXvxM5D5"
      }
    },
    {
      "cell_type": "markdown",
      "source": [
        "Eine Schleife wiederholt einen Teil eures Programms so oft, wie ihr wollt. Wir betrachten hier vor allem `for`-Schleifen. Eine `for`-Schleife wiederholt einen Programmabschnitt für jedes Element in einer Liste. Betrachte etwa das folgende Programm:"
      ],
      "metadata": {
        "id": "REui-DqtNgEu"
      }
    },
    {
      "cell_type": "code",
      "source": [
        "for buchstabe in 'Julia':\n",
        "  print(buchstabe)"
      ],
      "metadata": {
        "id": "joZoKMvfF5s4",
        "colab": {
          "base_uri": "https://localhost:8080/"
        },
        "outputId": "17e41d85-3732-4bb4-8dec-5fb34c2d3da9"
      },
      "execution_count": null,
      "outputs": [
        {
          "output_type": "stream",
          "name": "stdout",
          "text": [
            "J\n",
            "u\n",
            "l\n",
            "i\n",
            "a\n"
          ]
        }
      ]
    },
    {
      "cell_type": "markdown",
      "source": [
        "In Worten sagt dieses Programm: Für jeden Buchstaben im Text 'Julia', gib den Buchstaben aus. Und das ist genau, was das Programm tut.\n",
        "\n",
        "Oder nehmen wir folgendes Beispiel:"
      ],
      "metadata": {
        "id": "69xIjPDUGDNC"
      }
    },
    {
      "cell_type": "code",
      "source": [
        "for zahl in [1, 2, 3, 4]:\n",
        "  print(zahl + 1)"
      ],
      "metadata": {
        "id": "C0DQwPVHGWWv",
        "colab": {
          "base_uri": "https://localhost:8080/"
        },
        "outputId": "da6bdb20-6fdc-4175-d102-8e5b4c411b10"
      },
      "execution_count": null,
      "outputs": [
        {
          "output_type": "stream",
          "name": "stdout",
          "text": [
            "2\n",
            "3\n",
            "4\n",
            "5\n"
          ]
        }
      ]
    },
    {
      "cell_type": "markdown",
      "source": [
        "Dieses Programm sagt: Für jede Zahl  in der Liste `[1, 2, 3, 4]`, gib die Zahl plus 1 aus.\n",
        "\n",
        "Nun deine Aufgabe: Gib das Quadrat aller Zahlen von 1 bis 10 aus."
      ],
      "metadata": {
        "id": "FC0gL8GdGasQ"
      }
    },
    {
      "cell_type": "code",
      "source": [
        "for i in [1, 2, 3, 4, 5, 6, 7, 8, 9, 10]:\n",
        "  print(i * i)"
      ],
      "metadata": {
        "id": "4ZoEwGz9GaH4",
        "colab": {
          "base_uri": "https://localhost:8080/"
        },
        "outputId": "a26b92a6-040e-4ad6-986e-73d040ddf53e"
      },
      "execution_count": null,
      "outputs": [
        {
          "output_type": "stream",
          "name": "stdout",
          "text": [
            "1\n",
            "4\n",
            "9\n",
            "16\n",
            "25\n",
            "36\n",
            "49\n",
            "64\n",
            "81\n",
            "100\n"
          ]
        }
      ]
    },
    {
      "cell_type": "markdown",
      "source": [
        "Listen von Zahlen von Hand zu schreiben ist aber auch lästig. Python bietet uns hier eine Abkürzung an, nämlich die `range`-Funktion. Die erzeugt uns eine Liste von Zahlen. `range(10)` erzeugt alle Zahlen von 0 bis 9, `range(2, 7)` alle Zahlen von 2 bis 7, und `range(2, 11, 2)` die Zahlen 2, 4, 6, 8, 10.\n",
        "\n",
        "Gib nun noch mal das Quadrat aller Zahlen von 1 bis 10 aus, aber benutze den `range`-Befehl als Hilfe."
      ],
      "metadata": {
        "id": "EqDe12-_HB_A"
      }
    },
    {
      "cell_type": "code",
      "source": [
        "for i in range(1, 11):\n",
        "  print(i * i)"
      ],
      "metadata": {
        "colab": {
          "base_uri": "https://localhost:8080/"
        },
        "id": "8tI5DDiDHBaR",
        "outputId": "df95d207-ac55-4c96-e37d-976aca41396a"
      },
      "execution_count": null,
      "outputs": [
        {
          "output_type": "stream",
          "name": "stdout",
          "text": [
            "1\n",
            "4\n",
            "9\n",
            "16\n",
            "25\n",
            "36\n",
            "49\n",
            "64\n",
            "81\n",
            "100\n"
          ]
        }
      ]
    },
    {
      "cell_type": "markdown",
      "source": [
        "Aber nur mit Zahlen zu hantieren ist ja auch langweilig. Wir haben eine Liste mit Kuchen vorbereitet. Schreibe ein Programm, das diese Liste wie folgt auflistet:\n",
        "\n",
        "Kuchen no. 1 ist: Bananenkuchen.  \n",
        "Kuchen no. 2 ist: Apfelkuchen.  \n",
        "Kuchen no. 3 ist: Pfirsichkuchen.  \n",
        "Kuchen no. 4 ist: Schokokuchen.\n",
        "\n",
        "\n",
        "💡 Tip: Benutze den `range` Befehl und erzeuge damit die Zahlen 1 bis zur Länge der Kuchenliste. Die Länge einer Liste kannst du über `len(kuchen_liste)` erfahren. Den Kuchen an Stelle `i` in der Liste kannst du dann über `kuchen_liste[i]` erfahren."
      ],
      "metadata": {
        "id": "xx-kAMYWHtYs"
      }
    },
    {
      "cell_type": "code",
      "source": [
        "kuchen_liste = [\"Bananenkuchen\", \"Apfelkuchen\", \"Pfirsichkuchen\", \"Zitronenkuchen\", \"Schokokuchen\"]\n",
        "\n",
        "for i in range(len(kuchen_liste)):\n",
        "  print('Kuchen no. ' + str(i+1) + ' ist: ' + kuchen_liste[i])"
      ],
      "metadata": {
        "colab": {
          "base_uri": "https://localhost:8080/"
        },
        "id": "SN3tVxfNHs5-",
        "outputId": "6b95e724-bb6a-41d9-e774-ea18d1fcc494"
      },
      "execution_count": null,
      "outputs": [
        {
          "output_type": "stream",
          "name": "stdout",
          "text": [
            "Kuchen no. 1 ist: Bananenkuchen\n",
            "Kuchen no. 2 ist: Apfelkuchen\n",
            "Kuchen no. 3 ist: Pfirsichkuchen\n",
            "Kuchen no. 4 ist: Zitronenkuchen\n",
            "Kuchen no. 5 ist: Schokokuchen\n"
          ]
        }
      ]
    },
    {
      "cell_type": "markdown",
      "source": [
        "Schreibe schließlich ein Programm, das für jeden Kuchen mit einem `input`-Befehl abfragt, ob man den Kuchen mag oder nicht. Alle Kuchen, bei denen 'ja' gesagt wird, sollen in einer Variable abgespeichert werden. Am Ende soll das Programm ausgeben: `'Alles klar, dann bringe ich dir also '` gefolgt von einer Liste der gespeicherte Variable."
      ],
      "metadata": {
        "id": "Ouz16UH7JDsa"
      }
    },
    {
      "cell_type": "code",
      "source": [
        "kuchen_liste = [\"Bananenkuchen\", \"Apfelkuchen\", \"Pfirsichkuchen\", \"Zitronenkuchen\", \"Schokokuchen\"]\n",
        "\n",
        "ja_liste = ''\n",
        "\n",
        "for kuchen in kuchen_liste:\n",
        "  antwort = input('Magst du ' + kuchen + '?')\n",
        "  if antwort == 'ja':\n",
        "    ja_liste += kuchen + ', '\n",
        "print('Alles klar, dann bringe ich dir also ' + ja_liste)"
      ],
      "metadata": {
        "colab": {
          "base_uri": "https://localhost:8080/"
        },
        "id": "y7s-J3AiJDNY",
        "outputId": "29bf87a8-7f20-45a8-8381-c11f2de7a801"
      },
      "execution_count": null,
      "outputs": [
        {
          "output_type": "stream",
          "name": "stdout",
          "text": [
            "Magst du Bananenkuchen?ja\n",
            "Magst du Apfelkuchen?nein\n",
            "Magst du Pfirsichkuchen?ja\n",
            "Magst du Zitronenkuchen?ja\n",
            "Magst du Schokokuchen?nein\n",
            "Alles klar, dann bringe ich dir also Bananenkuchen, Pfirsichkuchen, Zitronenkuchen, \n"
          ]
        }
      ]
    },
    {
      "cell_type": "markdown",
      "source": [
        "Bonusaufgabe: Wenn bei keinem Kuchen 'ja' geantwortet wird, gib am Ende 'Du bist aber wählerisch!' aus."
      ],
      "metadata": {
        "id": "hyyxcc-bLiaK"
      }
    },
    {
      "cell_type": "code",
      "source": [
        "kuchen_liste = [\"Bananenkuchen\", \"Apfelkuchen\", \"Pfirsichkuchen\", \"Zitronenkuchen\", \"Schokokuchen\"]\n",
        "\n",
        "ja_liste = ''\n",
        "\n",
        "for kuchen in kuchen_liste:\n",
        "  antwort = input('Magst du ' + kuchen + '?')\n",
        "  if antwort == 'ja':\n",
        "    ja_liste += kuchen + ', '\n",
        "if ja_liste == '':\n",
        "  print('Du bist aber wählerisch!')\n",
        "else:\n",
        "  print('Alles klar, dann bringe ich dir also ' + ja_liste)"
      ],
      "metadata": {
        "colab": {
          "base_uri": "https://localhost:8080/"
        },
        "id": "8mQs0KSp5OUV",
        "outputId": "967eaf7f-3887-4788-b818-f0f9ca38e1aa"
      },
      "execution_count": null,
      "outputs": [
        {
          "output_type": "stream",
          "name": "stdout",
          "text": [
            "Magst du Bananenkuchen?nein\n",
            "Magst du Apfelkuchen?nein\n",
            "Magst du Pfirsichkuchen?nein\n",
            "Magst du Zitronenkuchen?nein\n",
            "Magst du Schokokuchen?nein\n",
            "Du bist aber wählerisch!\n"
          ]
        }
      ]
    },
    {
      "cell_type": "code",
      "source": [],
      "metadata": {
        "id": "uQBd64DS5TiR"
      },
      "execution_count": null,
      "outputs": []
    }
  ]
}
