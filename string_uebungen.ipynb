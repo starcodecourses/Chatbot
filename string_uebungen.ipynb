{
  "nbformat": 4,
  "nbformat_minor": 0,
  "metadata": {
    "colab": {
      "provenance": []
    },
    "kernelspec": {
      "name": "python3",
      "display_name": "Python 3"
    },
    "language_info": {
      "name": "python"
    }
  },
  "cells": [
    {
      "cell_type": "markdown",
      "source": [
        "# Eingabe und Ausgabe\n",
        "\n",
        "Das wichtigste bei einem Chatbot ist, zuhören und antworten zu können. Fangen wir mal beim Antworten an. In Python ist die Funktion `print` dafür da, Text auszugeben. Der Text selbst muss in Anführungszeichen stehen. Das sieht dann so aus:\n",
        "\n",
        "`print('Dieser Text wird ausgegeben')`\n",
        "\n",
        "In guter Informatiktradition ist hier dein erstes Programm: Es gibt den Text `'Hello, world!'` aus. Versuch einmal, das Programm auszuführen, indem du in das Programm klickst und dann auf den weißen Pfeil auf schwarzem Grund."
      ],
      "metadata": {
        "id": "9dc7DXZ814AF"
      }
    },
    {
      "cell_type": "code",
      "source": [
        "#Dein Code hier"
      ],
      "metadata": {
        "id": "wbB_96rnTDAR"
      },
      "execution_count": null,
      "outputs": []
    },
    {
      "cell_type": "markdown",
      "source": [
        "Fantastisch! Unser Chatbot lebt! Nächster Schritt: Lassen wir unseren Chatbot 'Happy Birthday' singen. Zur Erinnerung, der Text geht so:\n",
        "\n",
        "```\n",
        "Happy birthday to you!\n",
        "Happy birthday to you!\n",
        "Happy birthday, dear Geburtstagskind!\n",
        "Happy birthday to you!\n",
        "```\n",
        "\n",
        "Als Tip: Für diese Aufgabe müsst ihr vier mal `print` aufrufen, jeweils in einer neuen Zeile.\n",
        "\n",
        "\n"
      ],
      "metadata": {
        "id": "r1oi77TwUnkT"
      }
    },
    {
      "cell_type": "code",
      "source": [
        "#Dein Code hier"
      ],
      "metadata": {
        "id": "pgxlG1X5VrD_"
      },
      "execution_count": null,
      "outputs": []
    },
    {
      "cell_type": "markdown",
      "source": [
        "Sehr feierlich, das alles. Nun sollte aber bereits ein bisschen Faulheit zuschlagen: Vier mal 'Happy birthday to you' schreiben ist viel zu viel Arbeit! Wir können das abkürzen, indem wir den Text 'Happy birthday to you' in einer so genannten Variable abspeichern und dann wiederverwenden. Das sieht dann ungefähr so aus:\n",
        "\n",
        "```\n",
        "x = 'Happy birthday to you!'\n",
        "print(x)\n",
        "```\n",
        "\n",
        "Schreibe das Happy Birthday-Programm noch einmal und benutze eine Variable."
      ],
      "metadata": {
        "id": "2RcowlldV50h"
      }
    },
    {
      "cell_type": "code",
      "source": [
        "#Dein Code hier"
      ],
      "metadata": {
        "colab": {
          "base_uri": "https://localhost:8080/"
        },
        "id": "lnTiDv9BV447",
        "outputId": "2f9d4e4f-f6ce-409e-b0df-060610e3a15e"
      },
      "execution_count": null,
      "outputs": [
        {
          "output_type": "stream",
          "name": "stdout",
          "text": [
            "Happy birthday to you!\n",
            "Happy birthday to you!\n",
            "Happy birthday to you, dear Geburtstagskind!\n",
            "Happy birthday to you!\n"
          ]
        }
      ]
    },
    {
      "cell_type": "markdown",
      "source": [
        "Vielleicht ist dir ein Problem aufgefallen: In der dritten Zeile des Liedes können wir die Variable nicht benutzen, weil wir dort kein Ausrufezeichen nach `Happy birthday to you` brauchen, sondern ein `, dear Geburtstagskind!`. Aber das lässt sich beheben, und zwar indem wir nur den Text `Happy birthday to you` (also ohne Ausrufezeichen) in der Variable speichern und dann je nach Bedarf ein Ausrufezeichen oder ein `, dear Geburtstagskind!` anhängen. Wie hängt man etwas an? Mit einem Pluszeichen! Das sieht dann so aus:\n",
        "\n",
        "\n",
        "\n",
        "```\n",
        "x = 'Happy birthday to you'\n",
        "print(x + '!')\n",
        "```\n",
        "\n",
        "Versuch es einmal selbst."
      ],
      "metadata": {
        "id": "U6xamWxoXARm"
      }
    },
    {
      "cell_type": "code",
      "source": [
        "#Dein Code hier"
      ],
      "metadata": {
        "colab": {
          "base_uri": "https://localhost:8080/"
        },
        "id": "P7ickwJXW91f",
        "outputId": "2f78e56d-8a02-4b2b-ce04-135e1e7a4857"
      },
      "execution_count": null,
      "outputs": [
        {
          "output_type": "stream",
          "name": "stdout",
          "text": [
            "Happy birthday to you!\n",
            "Happy birthday to you!\n",
            "Happy birthday to you, dear Geburtstagskind!\n",
            "Happy birthday to you!\n"
          ]
        }
      ]
    },
    {
      "cell_type": "markdown",
      "source": [
        "Na gut, man kann sich streiten, ob unser Programm nun wirklich einfacher geworden ist. Ein typisches Informatikproblem: Wir versuchen, Dinge zu automatisieren, um sie einfacher zu machen–aber dann werden sie gar nicht einfacher.\n",
        "\n",
        "Aber zurück zum Thema: Es gibt einen Fall, bei dem wir Variablen auf jeden Fall brauchen, nämlich wenn unser Chatbot zuhören soll. In Python ist die Funktion `input` dafür da, Text einzulesen. Das funktioniert wie folgt: Wir geben der Funktion zuerst einen Text mit, der ausgegeben werden soll (zum Beispiel eine Frage oder eine Aufforderung an die Nutzer\\*in). Dann hält das Programm an und wartet darauf, dass die Nutzer\\*in Text eingibt. Diese Eingabe muss dann von uns in einer Variable gespeichert werden. Das sieht ungefähr so aus:\n",
        "\n",
        "`text = input('Bitte gib mir Text!')`\n",
        "\n",
        "Wenn dieses Programm durchgelaufen ist, dann ist in der Variable `text` der Text abgespeichert, den die Nutzer\\*in eingegeben hat.\n",
        "\n",
        "Versuchen wir einmal, das anzuwenden! Schreibe eine neue Version des Geburtstagsprogramms, aber diesmal fragt unser Programm zu Beginn, wie das Geburtstagskind denn heißt und besingt dann genau diesen Namen."
      ],
      "metadata": {
        "id": "ObGLm8OPYNtx"
      }
    },
    {
      "cell_type": "code",
      "source": [
        "#Dein Code hier"
      ],
      "metadata": {
        "colab": {
          "base_uri": "https://localhost:8080/"
        },
        "id": "t2NZzf_tTEiZ",
        "outputId": "82e625e1-35b6-4878-edc2-189a74c83e1a"
      },
      "execution_count": null,
      "outputs": [
        {
          "output_type": "stream",
          "name": "stdout",
          "text": [
            "Wie heißt du?Joscha\n",
            "Happy birthday to you!\n",
            "Happy birthday to you!\n",
            "Happy birthday, dear Joscha!\n",
            "Happy birthday to you!\n"
          ]
        }
      ]
    },
    {
      "cell_type": "markdown",
      "source": [
        "Wir haben bereits gelernt, dass man Texte zusammenhängen kann, indem man ein Pluszeichen benutzt. Es funktioniert auch, einen Text zu vervielfältigen, indem man ein Malzeichen benutzt. Das sieht dann ungefähr so aus:\n",
        "\n",
        "```\n",
        "print('Na' * 4)\n",
        "```\n",
        "\n",
        "Kombiniere mal und plus, um den Text `nana nana nana nana, nana nana nana nana, Batman!` auszugeben."
      ],
      "metadata": {
        "id": "AUCjBnEoLjoa"
      }
    },
    {
      "cell_type": "code",
      "source": [
        "#Dein Code hier"
      ],
      "metadata": {
        "id": "wHBz4LH0LBo9",
        "colab": {
          "base_uri": "https://localhost:8080/"
        },
        "outputId": "0d334826-d06e-4945-c262-912f5e22ea9b"
      },
      "execution_count": null,
      "outputs": [
        {
          "output_type": "stream",
          "name": "stdout",
          "text": [
            " nana nana nana nana, nana nana nana nana, Batman!\n"
          ]
        }
      ]
    },
    {
      "cell_type": "markdown",
      "source": [
        "Manchmal müssen wir nicht nur Text zusammenbauen, sondern Text auseinander nehmen. Wenn ich zum Beispiel den vierten Buchstaben eines Textes angezeigt haben will, dann kann ich schreiben:\n",
        "\n",
        "\n",
        "```\n",
        "print(text[3])\n",
        "```\n",
        "\n",
        "Warum 3? Weil Computer gern bei Null mit dem Zählen anfangen.\n",
        "\n",
        "Benutzen wir das für einen kleinen Geheimcode. Schreib ein Programm, das nach einem Text fragt und dann den vierten, den zweiten, den neunten, den zehnten und den vorletzten Buchstaben ausgibt. Wenn ich zum Beispiel 'Happy Birthday!' eingebe, sollte 'party' ausgegeben werden. Merke: Um den letzten Buchstaben auszugeben brauchst du die Länge des Eingabetextes. Die erfährst du über `len(text)`.\n"
      ],
      "metadata": {
        "id": "zFn07wdsGlfD"
      }
    },
    {
      "cell_type": "code",
      "source": [
        "#Dein Code hier\n"
      ],
      "metadata": {
        "colab": {
          "base_uri": "https://localhost:8080/"
        },
        "id": "N0vShLL_xU1d",
        "outputId": "85c10b6d-652b-49e2-9f4a-88bed6502d0d"
      },
      "execution_count": null,
      "outputs": [
        {
          "output_type": "stream",
          "name": "stdout",
          "text": [
            "Welchen Text möchtest du entschlüsseln?Happy Birthday!\n",
            "party\n"
          ]
        }
      ]
    },
    {
      "cell_type": "code",
      "source": [
        "#Dein Code hier"
      ],
      "metadata": {
        "id": "O_vcY5n6Vk8U"
      },
      "execution_count": null,
      "outputs": []
    }
  ]
}